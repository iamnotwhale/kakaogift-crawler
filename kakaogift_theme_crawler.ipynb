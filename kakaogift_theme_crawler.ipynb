{
 "cells": [
  {
   "cell_type": "markdown",
   "metadata": {},
   "source": [
    "### 패키치 설치"
   ]
  },
  {
   "cell_type": "code",
   "execution_count": null,
   "metadata": {},
   "outputs": [],
   "source": [
    "!pip install numpy pandas selenium bs4 requests tqdm"
   ]
  },
  {
   "cell_type": "markdown",
   "metadata": {},
   "source": [
    "### 라이브러리 임포트"
   ]
  },
  {
   "cell_type": "code",
   "execution_count": 40,
   "metadata": {},
   "outputs": [],
   "source": [
    "import pandas as pd\n",
    "import numpy as np\n",
    "\n",
    "# chromedriver\n",
    "from selenium import webdriver\n",
    "from selenium.webdriver.common.keys import Keys\n",
    "from selenium.webdriver.chrome.options import Options\n",
    "from selenium.webdriver.common.by import By\n",
    "from selenium.webdriver.support.ui import WebDriverWait\n",
    "from selenium.webdriver.support import expected_conditions as EC\n",
    "from selenium.webdriver.chrome.service import Service\n",
    "from selenium.common.exceptions import NoSuchElementException\n",
    "\n",
    "\n",
    "import requests\n",
    "import time\n",
    "import re\n",
    "from tqdm import tqdm\n",
    "from bs4 import BeautifulSoup\n",
    "import csv\n",
    "from tqdm import tqdm\n",
    "from datetime import datetime\n",
    "import os"
   ]
  },
  {
   "cell_type": "markdown",
   "metadata": {},
   "source": [
    "### 웹드라이버 창 열기"
   ]
  },
  {
   "cell_type": "code",
   "execution_count": 92,
   "metadata": {},
   "outputs": [],
   "source": [
    "service = Service(\"/Users/bykwon/Downloads/chromedriver-mac-arm64 3/chromedriver\") # 여러분의 chromedriver 경로로 수정해주세요!\n",
    "driver = webdriver.Chrome(service=service)\n",
    "driver.maximize_window()"
   ]
  },
  {
   "cell_type": "code",
   "execution_count": 93,
   "metadata": {},
   "outputs": [],
   "source": [
    "# 대상 URL로 이동\n",
    "url = \"https://gift.kakao.com/page/code/life_funny\"\n",
    "driver.get(url)"
   ]
  },
  {
   "cell_type": "code",
   "execution_count": null,
   "metadata": {},
   "outputs": [],
   "source": [
    "# 무한 스크롤을 통한 데이터 로드\n",
    "target_count = 100  # 크롤링하려는 상품 수\n",
    "scroll_pause_time = 0.5\n",
    "\n",
    "# 크롤링된 상품 링크를 저장할 리스트\n",
    "product_links = set()\n",
    "\n",
    "while len(product_links) < target_count:\n",
    "    # 현재 페이지 HTML 파싱\n",
    "    html = driver.page_source\n",
    "    soup = BeautifulSoup(html, \"html.parser\")\n",
    "\n",
    "    # id가 \"promotion_prdList_3\"로 시작하는 섹션 탐색\n",
    "    sections = soup.find_all(\"div\", id=re.compile(\"^promotion_prdList_3\"))\n",
    "    for section in sections:\n",
    "        items = section.find_all(\"a\", class_=\"link_thumb\")\n",
    "        for item in items:\n",
    "            link = item.get(\"href\")\n",
    "            if link not in product_links:\n",
    "                product_links.add('https://gift.kakao.com'+link)\n",
    "\n",
    "    # 목표 수량 도달 시 루프 종료\n",
    "    if len(product_links) >= target_count:\n",
    "        break\n",
    "\n",
    "    # 스크롤 다운\n",
    "    body = driver.find_element(By.TAG_NAME, 'body')\n",
    "    body.send_keys(Keys.PAGE_DOWN)\n",
    "    time.sleep(scroll_pause_time)\n",
    "\n",
    "    # 상품 수 출력 (디버깅용)\n",
    "    print(f\"중복 없는 상품 수: {len(product_links)}\")\n",
    "\n",
    "# 결과 출력\n",
    "print(\"수집된 상품 링크:\")\n",
    "for link in product_links:\n",
    "    print(link)\n",
    "print(f\"총 {len(product_links)}개의 상품 링크 수집 완료\")"
   ]
  },
  {
   "cell_type": "markdown",
   "metadata": {},
   "source": [
    "### 필요한 함수 정의"
   ]
  },
  {
   "cell_type": "code",
   "execution_count": 9,
   "metadata": {},
   "outputs": [],
   "source": [
    "def crawl_info(link):\n",
    "    # 동적 크롤링을 위해 selenium으로 페이지를 엽니다.\n",
    "    driver.get(link)\n",
    "    time.sleep(2)\n",
    "\n",
    "    # 페이지 소스를 읽어 BeautifulSoup으로 파싱합니다.\n",
    "    html = driver.page_source\n",
    "    soup = BeautifulSoup(html, 'html.parser')\n",
    "\n",
    "    # 상품 정보를 담을 딕셔너리를 생성합니다.\n",
    "    # product_info = {}\n",
    "\n",
    "    # 상품 정보를 추출합니다.\n",
    "    name = soup.select_one('h2.tit_subject').text.strip()\n",
    "    num_review = soup.select_one('span.txt_desc').text.strip()\n",
    "    num_review = re.sub(r'[^\\d]', '', num_review)\n",
    "    price = soup.select_one('span.txt_total').text.strip()\n",
    "    price = re.sub(r'[^\\d]', '', price)\n",
    "    heart = soup.select_one('span.count_wishes').text.strip()\n",
    "    heart = re.sub(r'[^\\d]', '', heart)\n",
    "    brand = soup.select_one('span.txt_shopname').text.strip()\n",
    "\n",
    "\n",
    "    return {'name': name, 'num_review': num_review, 'price': price, 'heart': heart, 'brand': brand}"
   ]
  },
  {
   "cell_type": "code",
   "execution_count": 14,
   "metadata": {},
   "outputs": [],
   "source": [
    "def crawl_review(link):\n",
    "    cutoff = datetime.strptime(\"2024-09-30\", \"%Y-%m-%d\")\n",
    "\n",
    "    reviews = []\n",
    "\n",
    "    if driver.current_url != link:\n",
    "        driver.get(link)\n",
    "\n",
    "    time.sleep(1)\n",
    "    \n",
    "    driver.find_element(value=\"/html/body/app-root/app-view-wrapper/div/div/main/article/app-home/div/div[1]/app-contents/app-product-detail-tab/div/ul/li[2]/a/span\", by=By.XPATH).click()\n",
    "    time.sleep(1)\n",
    "    try:\n",
    "        driver.find_element(value=\"/html/body/app-root/app-view-wrapper/div/div/main/article/app-home/div/div[1]/app-contents/app-product-detail-tab/div/app-info-review/div/div/div[1]/ul/li[1]/a\", by=By.XPATH).click()\n",
    "        time.sleep(1)\n",
    "    except:\n",
    "        print(\"리뷰 없음\")\n",
    "        return None, reviews\n",
    "    html = driver.page_source\n",
    "    soup = BeautifulSoup(html, 'html.parser')\n",
    "\n",
    "    # 만족도 정보 크롤링\n",
    "    try:\n",
    "        satisfaction = soup.select_one('em.txt_point span.txt_percent').text.strip()\n",
    "    except:\n",
    "        satisfaction = None\n",
    "\n",
    "    # 리뷰 정보 크롤링\n",
    "    reviews = []\n",
    "    cnt = 0\n",
    "    flag = 0\n",
    "\n",
    "    while True:\n",
    "        # 페이지 HTML 가져오기\n",
    "        html = driver.page_source\n",
    "        time.sleep(1)\n",
    "        soup = BeautifulSoup(html, 'html.parser')\n",
    "\n",
    "        # 리뷰 항목 선택\n",
    "        review_items = soup.select('app-view-review-item')  # 각 리뷰를 감싸는 요소\n",
    "        if review_items == []:\n",
    "            return satisfaction, reviews\n",
    "        review_items = review_items[cnt:]\n",
    "        \n",
    "\n",
    "        for review in review_items:\n",
    "            date_text = review.select('.txt_reviewinfo')[1].text.strip()\n",
    "            review_date = datetime.strptime(date_text, \"%Y.%m.%d\")\n",
    "\n",
    "            # 날짜 기준 확인\n",
    "            if review_date < cutoff:\n",
    "                flag = 1\n",
    "                break\n",
    "\n",
    "            # 별점 추출\n",
    "            rating_text = review.select_one('.area_score').text.strip()\n",
    "            rating = rating_text.split(' ')[-1]  # \"별점 4점 만점 중 4점\" -> \"4점\"\n",
    "\n",
    "            # 내용 추출\n",
    "            content = review.select_one('.txt_review').text.strip()\n",
    "\n",
    "            who = review.select('.txt_hash')[0].text.strip()\n",
    "            what = review.select('.txt_hash')[1].text.strip()\n",
    "\n",
    "            # 리뷰 데이터 저장\n",
    "            reviews.append({\n",
    "                \"datetime\": review_date,\n",
    "                \"rating\": rating,\n",
    "                \"content\": content,\n",
    "                \"who\": who,\n",
    "                \"what\": what\n",
    "            })\n",
    "\n",
    "        # 다음 페이지 이동 전 저장된 리뷰 수 확인 > 다음에 새로 로딩될 때에는 이전 페이지의 리뷰가 중복되지 않도록\n",
    "        print(f\"리뷰 수: {len(reviews)}\")\n",
    "        cnt = len(reviews)\n",
    "        if flag == 1 or reviews[-1]['datetime'] <= cutoff:\n",
    "            break\n",
    "        print(reviews[-1]['datetime'], cutoff)\n",
    "\n",
    "\n",
    "        # 다음 페이지로 이동\n",
    "        try:\n",
    "            driver.find_element(value=\"/html/body/app-root/app-view-wrapper/div/div/main/article/app-home/div/div[1]/app-contents/app-product-detail-tab/div/app-info-review/div/div/div[2]/button\", by=By.XPATH).click()\n",
    "        except:\n",
    "            print(\"리뷰 페이지 마지막\")\n",
    "            break\n",
    "\n",
    "    return satisfaction, reviews\n",
    "    \n",
    "    # <span class=\"txt_gage\">90%</span>\n",
    "    # /html/body/app-root/app-view-wrapper/div/div/main/article/app-home/div/div[1]/app-contents/app-product-detail-tab/div/app-info-review/div/div/div[2]/button\n",
    "    # /html/body/app-root/app-view-wrapper/div/div/main/article/app-home/div/div[1]/app-contents/app-product-detail-tab/div/app-info-review/div/div/div[2]/button"
   ]
  },
  {
   "cell_type": "markdown",
   "metadata": {},
   "source": [
    "### 폴더 생성"
   ]
  },
  {
   "cell_type": "code",
   "execution_count": 87,
   "metadata": {},
   "outputs": [],
   "source": [
    "os.makedirs(\"./웃긴선물\", exist_ok=True)"
   ]
  },
  {
   "cell_type": "markdown",
   "metadata": {},
   "source": [
    "### 실행"
   ]
  },
  {
   "cell_type": "code",
   "execution_count": 88,
   "metadata": {},
   "outputs": [
    {
     "name": "stderr",
     "output_type": "stream",
     "text": [
      "  1%|          | 1/94 [00:09<15:14,  9.83s/it]"
     ]
    },
    {
     "name": "stdout",
     "output_type": "stream",
     "text": [
      "리뷰 수: 4\n",
      "리뷰 수: 20\n",
      "2024-12-30 00:00:00 2024-09-30 00:00:00\n",
      "리뷰 수: 20\n",
      "2024-12-30 00:00:00 2024-09-30 00:00:00\n",
      "리뷰 수: 40\n",
      "2024-12-11 00:00:00 2024-09-30 00:00:00\n",
      "리뷰 수: 60\n",
      "2024-11-20 00:00:00 2024-09-30 00:00:00\n",
      "리뷰 수: 80\n",
      "2024-10-25 00:00:00 2024-09-30 00:00:00\n",
      "리뷰 수: 100\n",
      "2024-10-08 00:00:00 2024-09-30 00:00:00\n"
     ]
    },
    {
     "name": "stderr",
     "output_type": "stream",
     "text": [
      "  2%|▏         | 2/94 [00:27<22:31, 14.70s/it]"
     ]
    },
    {
     "name": "stdout",
     "output_type": "stream",
     "text": [
      "리뷰 수: 110\n"
     ]
    },
    {
     "name": "stderr",
     "output_type": "stream",
     "text": [
      "  3%|▎         | 3/94 [00:37<18:50, 12.42s/it]"
     ]
    },
    {
     "name": "stdout",
     "output_type": "stream",
     "text": [
      "리뷰 수: 3\n"
     ]
    },
    {
     "name": "stderr",
     "output_type": "stream",
     "text": [
      "  4%|▍         | 4/94 [00:48<17:32, 11.69s/it]"
     ]
    },
    {
     "name": "stdout",
     "output_type": "stream",
     "text": [
      "리뷰 수: 5\n"
     ]
    },
    {
     "name": "stderr",
     "output_type": "stream",
     "text": [
      "  5%|▌         | 5/94 [00:58<16:25, 11.08s/it]"
     ]
    },
    {
     "name": "stdout",
     "output_type": "stream",
     "text": [
      "리뷰 수: 17\n",
      "2024-10-23 00:00:00 2024-09-30 00:00:00\n",
      "리뷰 페이지 마지막\n"
     ]
    },
    {
     "name": "stderr",
     "output_type": "stream",
     "text": [
      "  6%|▋         | 6/94 [01:08<15:41, 10.69s/it]"
     ]
    },
    {
     "name": "stdout",
     "output_type": "stream",
     "text": [
      "리뷰 수: 17\n"
     ]
    },
    {
     "name": "stderr",
     "output_type": "stream",
     "text": [
      "  7%|▋         | 7/94 [01:18<15:12, 10.48s/it]"
     ]
    },
    {
     "name": "stdout",
     "output_type": "stream",
     "text": [
      "리뷰 수: 7\n"
     ]
    },
    {
     "name": "stderr",
     "output_type": "stream",
     "text": [
      "  9%|▊         | 8/94 [01:28<14:48, 10.33s/it]"
     ]
    },
    {
     "name": "stdout",
     "output_type": "stream",
     "text": [
      "리뷰 수: 11\n",
      "리뷰 수: 20\n",
      "2024-10-09 00:00:00 2024-09-30 00:00:00\n",
      "리뷰 수: 20\n",
      "2024-10-09 00:00:00 2024-09-30 00:00:00\n"
     ]
    },
    {
     "name": "stderr",
     "output_type": "stream",
     "text": [
      " 10%|▉         | 9/94 [01:40<15:38, 11.04s/it]"
     ]
    },
    {
     "name": "stdout",
     "output_type": "stream",
     "text": [
      "리뷰 수: 20\n",
      "리뷰 수: 20\n",
      "2024-12-31 00:00:00 2024-09-30 00:00:00\n",
      "리뷰 수: 20\n",
      "2024-12-31 00:00:00 2024-09-30 00:00:00\n"
     ]
    },
    {
     "name": "stderr",
     "output_type": "stream",
     "text": [
      " 11%|█         | 10/94 [01:53<16:05, 11.50s/it]"
     ]
    },
    {
     "name": "stdout",
     "output_type": "stream",
     "text": [
      "리뷰 수: 40\n",
      "2024-12-11 00:00:00 2024-09-30 00:00:00\n",
      "리뷰 페이지 마지막\n"
     ]
    },
    {
     "name": "stderr",
     "output_type": "stream",
     "text": [
      " 12%|█▏        | 11/94 [02:03<15:13, 11.01s/it]"
     ]
    },
    {
     "name": "stdout",
     "output_type": "stream",
     "text": [
      "리뷰 수: 7\n"
     ]
    },
    {
     "name": "stderr",
     "output_type": "stream",
     "text": [
      " 13%|█▎        | 12/94 [02:13<14:39, 10.73s/it]"
     ]
    },
    {
     "name": "stdout",
     "output_type": "stream",
     "text": [
      "리뷰 수: 14\n"
     ]
    },
    {
     "name": "stderr",
     "output_type": "stream",
     "text": [
      " 14%|█▍        | 13/94 [02:23<14:07, 10.47s/it]"
     ]
    },
    {
     "name": "stdout",
     "output_type": "stream",
     "text": [
      "리뷰 수: 10\n"
     ]
    },
    {
     "name": "stderr",
     "output_type": "stream",
     "text": [
      " 15%|█▍        | 14/94 [02:33<13:47, 10.34s/it]"
     ]
    },
    {
     "name": "stdout",
     "output_type": "stream",
     "text": [
      "리뷰 수: 3\n",
      "리뷰 수: 20\n",
      "2024-12-05 00:00:00 2024-09-30 00:00:00\n",
      "리뷰 수: 20\n",
      "2024-12-05 00:00:00 2024-09-30 00:00:00\n"
     ]
    },
    {
     "name": "stderr",
     "output_type": "stream",
     "text": [
      " 16%|█▌        | 15/94 [02:45<14:33, 11.05s/it]"
     ]
    },
    {
     "name": "stdout",
     "output_type": "stream",
     "text": [
      "리뷰 수: 36\n",
      "리뷰 수: 20\n",
      "2025-01-16 00:00:00 2024-09-30 00:00:00\n",
      "리뷰 수: 20\n",
      "2025-01-16 00:00:00 2024-09-30 00:00:00\n",
      "리뷰 수: 40\n",
      "2025-01-15 00:00:00 2024-09-30 00:00:00\n",
      "리뷰 수: 60\n",
      "2025-01-11 00:00:00 2024-09-30 00:00:00\n",
      "리뷰 수: 80\n",
      "2025-01-09 00:00:00 2024-09-30 00:00:00\n",
      "리뷰 수: 100\n",
      "2025-01-08 00:00:00 2024-09-30 00:00:00\n",
      "리뷰 수: 140\n",
      "2025-01-02 00:00:00 2024-09-30 00:00:00\n",
      "리뷰 수: 140\n",
      "2025-01-02 00:00:00 2024-09-30 00:00:00\n",
      "리뷰 수: 160\n",
      "2024-12-31 00:00:00 2024-09-30 00:00:00\n",
      "리뷰 수: 180\n",
      "2024-12-28 00:00:00 2024-09-30 00:00:00\n",
      "리뷰 수: 200\n",
      "2024-12-24 00:00:00 2024-09-30 00:00:00\n",
      "리뷰 수: 220\n",
      "2024-12-21 00:00:00 2024-09-30 00:00:00\n",
      "리뷰 수: 240\n",
      "2024-12-20 00:00:00 2024-09-30 00:00:00\n",
      "리뷰 수: 260\n",
      "2024-12-18 00:00:00 2024-09-30 00:00:00\n",
      "리뷰 수: 280\n",
      "2024-12-15 00:00:00 2024-09-30 00:00:00\n",
      "리뷰 수: 300\n",
      "2024-12-12 00:00:00 2024-09-30 00:00:00\n",
      "리뷰 수: 320\n",
      "2024-12-10 00:00:00 2024-09-30 00:00:00\n",
      "리뷰 수: 340\n",
      "2024-12-07 00:00:00 2024-09-30 00:00:00\n",
      "리뷰 수: 360\n",
      "2024-12-04 00:00:00 2024-09-30 00:00:00\n",
      "리뷰 수: 380\n",
      "2024-11-30 00:00:00 2024-09-30 00:00:00\n",
      "리뷰 수: 400\n",
      "2024-11-27 00:00:00 2024-09-30 00:00:00\n",
      "리뷰 수: 420\n",
      "2024-11-26 00:00:00 2024-09-30 00:00:00\n",
      "리뷰 수: 440\n",
      "2024-11-21 00:00:00 2024-09-30 00:00:00\n",
      "리뷰 수: 460\n",
      "2024-11-19 00:00:00 2024-09-30 00:00:00\n",
      "리뷰 수: 480\n",
      "2024-11-16 00:00:00 2024-09-30 00:00:00\n",
      "리뷰 수: 500\n",
      "2024-11-15 00:00:00 2024-09-30 00:00:00\n",
      "리뷰 수: 520\n",
      "2024-11-13 00:00:00 2024-09-30 00:00:00\n",
      "리뷰 수: 540\n",
      "2024-11-13 00:00:00 2024-09-30 00:00:00\n",
      "리뷰 수: 560\n",
      "2024-11-10 00:00:00 2024-09-30 00:00:00\n",
      "리뷰 수: 580\n",
      "2024-11-08 00:00:00 2024-09-30 00:00:00\n",
      "리뷰 수: 600\n",
      "2024-11-06 00:00:00 2024-09-30 00:00:00\n",
      "리뷰 수: 620\n",
      "2024-11-02 00:00:00 2024-09-30 00:00:00\n",
      "리뷰 수: 640\n",
      "2024-10-30 00:00:00 2024-09-30 00:00:00\n",
      "리뷰 수: 660\n",
      "2024-10-26 00:00:00 2024-09-30 00:00:00\n",
      "리뷰 수: 700\n",
      "2024-10-23 00:00:00 2024-09-30 00:00:00\n",
      "리뷰 수: 700\n",
      "2024-10-23 00:00:00 2024-09-30 00:00:00\n",
      "리뷰 수: 740\n",
      "2024-10-16 00:00:00 2024-09-30 00:00:00\n",
      "리뷰 수: 740\n",
      "2024-10-16 00:00:00 2024-09-30 00:00:00\n",
      "리뷰 수: 760\n",
      "2024-10-14 00:00:00 2024-09-30 00:00:00\n",
      "리뷰 수: 780\n",
      "2024-10-11 00:00:00 2024-09-30 00:00:00\n",
      "리뷰 수: 820\n",
      "2024-10-06 00:00:00 2024-09-30 00:00:00\n",
      "리뷰 수: 820\n",
      "2024-10-06 00:00:00 2024-09-30 00:00:00\n",
      "리뷰 수: 860\n",
      "2024-10-02 00:00:00 2024-09-30 00:00:00\n"
     ]
    },
    {
     "name": "stderr",
     "output_type": "stream",
     "text": [
      " 17%|█▋        | 16/94 [05:03<1:04:01, 49.25s/it]"
     ]
    },
    {
     "name": "stdout",
     "output_type": "stream",
     "text": [
      "리뷰 수: 869\n"
     ]
    },
    {
     "name": "stderr",
     "output_type": "stream",
     "text": [
      " 18%|█▊        | 17/94 [05:13<48:00, 37.41s/it]  "
     ]
    },
    {
     "name": "stdout",
     "output_type": "stream",
     "text": [
      "리뷰 수: 12\n"
     ]
    },
    {
     "name": "stderr",
     "output_type": "stream",
     "text": [
      " 19%|█▉        | 18/94 [05:23<36:54, 29.14s/it]"
     ]
    },
    {
     "name": "stdout",
     "output_type": "stream",
     "text": [
      "리뷰 수: 1\n",
      "리뷰 수: 20\n",
      "2024-11-04 00:00:00 2024-09-30 00:00:00\n",
      "리뷰 수: 20\n",
      "2024-11-04 00:00:00 2024-09-30 00:00:00\n"
     ]
    },
    {
     "name": "stderr",
     "output_type": "stream",
     "text": [
      " 20%|██        | 19/94 [05:35<30:06, 24.08s/it]"
     ]
    },
    {
     "name": "stdout",
     "output_type": "stream",
     "text": [
      "리뷰 수: 29\n",
      "리뷰 수: 20\n",
      "2024-12-21 00:00:00 2024-09-30 00:00:00\n",
      "리뷰 수: 20\n",
      "2024-12-21 00:00:00 2024-09-30 00:00:00\n"
     ]
    },
    {
     "name": "stderr",
     "output_type": "stream",
     "text": [
      " 21%|██▏       | 20/94 [05:48<25:21, 20.56s/it]"
     ]
    },
    {
     "name": "stdout",
     "output_type": "stream",
     "text": [
      "리뷰 수: 33\n"
     ]
    },
    {
     "name": "stderr",
     "output_type": "stream",
     "text": [
      " 22%|██▏       | 21/94 [05:58<21:05, 17.33s/it]"
     ]
    },
    {
     "name": "stdout",
     "output_type": "stream",
     "text": [
      "리뷰 수: 5\n"
     ]
    },
    {
     "name": "stderr",
     "output_type": "stream",
     "text": [
      " 23%|██▎       | 22/94 [06:08<18:13, 15.18s/it]"
     ]
    },
    {
     "name": "stdout",
     "output_type": "stream",
     "text": [
      "리뷰 수: 8\n",
      "리뷰 수: 20\n",
      "2025-01-03 00:00:00 2024-09-30 00:00:00\n",
      "리뷰 수: 20\n",
      "2025-01-03 00:00:00 2024-09-30 00:00:00\n",
      "리뷰 수: 40\n",
      "2024-12-10 00:00:00 2024-09-30 00:00:00\n",
      "리뷰 수: 60\n",
      "2024-11-15 00:00:00 2024-09-30 00:00:00\n",
      "리뷰 수: 80\n",
      "2024-10-29 00:00:00 2024-09-30 00:00:00\n",
      "리뷰 수: 100\n",
      "2024-10-09 00:00:00 2024-09-30 00:00:00\n"
     ]
    },
    {
     "name": "stderr",
     "output_type": "stream",
     "text": [
      " 24%|██▍       | 23/94 [06:26<18:58, 16.04s/it]"
     ]
    },
    {
     "name": "stdout",
     "output_type": "stream",
     "text": [
      "리뷰 수: 103\n",
      "리뷰 수: 20\n",
      "2024-11-28 00:00:00 2024-09-30 00:00:00\n"
     ]
    },
    {
     "name": "stderr",
     "output_type": "stream",
     "text": [
      " 26%|██▌       | 24/94 [06:37<17:01, 14.59s/it]"
     ]
    },
    {
     "name": "stdout",
     "output_type": "stream",
     "text": [
      "리뷰 수: 20\n",
      "2024-11-28 00:00:00 2024-09-30 00:00:00\n",
      "리뷰 페이지 마지막\n"
     ]
    },
    {
     "name": "stderr",
     "output_type": "stream",
     "text": [
      " 27%|██▋       | 25/94 [06:47<15:08, 13.17s/it]"
     ]
    },
    {
     "name": "stdout",
     "output_type": "stream",
     "text": [
      "리뷰 수: 7\n"
     ]
    },
    {
     "name": "stderr",
     "output_type": "stream",
     "text": [
      " 28%|██▊       | 26/94 [06:51<11:56, 10.54s/it]"
     ]
    },
    {
     "name": "stdout",
     "output_type": "stream",
     "text": [
      "Alert Text: 로그인이 필요한 메뉴입니다.\n",
      "로그인하시겠습니까?\n",
      "Message: unexpected alert open: {Alert text : 로그인이 필요한 메뉴입니다.\n",
      "로그인하시겠습니까?}\n",
      "  (Session info: chrome=132.0.6834.83)\n",
      "Stacktrace:\n",
      "0   chromedriver                        0x000000010099e138 cxxbridge1$str$ptr + 3653888\n",
      "1   chromedriver                        0x0000000100996988 cxxbridge1$str$ptr + 3623248\n",
      "2   chromedriver                        0x00000001003fc968 cxxbridge1$string$len + 89228\n",
      "3   chromedriver                        0x000000010047a230 cxxbridge1$string$len + 603476\n",
      "4   chromedriver                        0x0000000100435564 cxxbridge1$string$len + 321672\n",
      "5   chromedriver                        0x00000001004361b4 cxxbridge1$string$len + 324824\n",
      "6   chromedriver                        0x0000000100968fc0 cxxbridge1$str$ptr + 3436424\n",
      "7   chromedriver                        0x000000010096c2dc cxxbridge1$str$ptr + 3449508\n",
      "8   chromedriver                        0x000000010094fe60 cxxbridge1$str$ptr + 3333672\n",
      "9   chromedriver                        0x000000010096cb9c cxxbridge1$str$ptr + 3451748\n",
      "10  chromedriver                        0x0000000100941678 cxxbridge1$str$ptr + 3274304\n",
      "11  chromedriver                        0x00000001009872b4 cxxbridge1$str$ptr + 3560060\n",
      "12  chromedriver                        0x0000000100987430 cxxbridge1$str$ptr + 3560440\n",
      "13  chromedriver                        0x00000001009965fc cxxbridge1$str$ptr + 3622340\n",
      "14  libsystem_pthread.dylib             0x00000001805882e4 _pthread_start + 136\n",
      "15  libsystem_pthread.dylib             0x00000001805830fc thread_start + 8\n",
      "\n"
     ]
    },
    {
     "name": "stderr",
     "output_type": "stream",
     "text": [
      " 29%|██▊       | 27/94 [07:01<11:30, 10.31s/it]"
     ]
    },
    {
     "name": "stdout",
     "output_type": "stream",
     "text": [
      "리뷰 수: 15\n"
     ]
    },
    {
     "name": "stderr",
     "output_type": "stream",
     "text": [
      " 30%|██▉       | 28/94 [07:11<11:09, 10.14s/it]"
     ]
    },
    {
     "name": "stdout",
     "output_type": "stream",
     "text": [
      "리뷰 수: 3\n",
      "2024-11-17 00:00:00 2024-09-30 00:00:00\n",
      "리뷰 페이지 마지막\n"
     ]
    },
    {
     "name": "stderr",
     "output_type": "stream",
     "text": [
      " 31%|███       | 29/94 [07:21<10:51, 10.03s/it]"
     ]
    },
    {
     "name": "stdout",
     "output_type": "stream",
     "text": [
      "리뷰 수: 4\n",
      "2024-11-25 00:00:00 2024-09-30 00:00:00\n",
      "리뷰 페이지 마지막\n",
      "리뷰 수: 20\n",
      "2024-12-16 00:00:00 2024-09-30 00:00:00\n",
      "리뷰 수: 20\n",
      "2024-12-16 00:00:00 2024-09-30 00:00:00\n",
      "리뷰 수: 40\n",
      "2024-11-22 00:00:00 2024-09-30 00:00:00\n"
     ]
    },
    {
     "name": "stderr",
     "output_type": "stream",
     "text": [
      " 32%|███▏      | 30/94 [07:34<11:54, 11.16s/it]"
     ]
    },
    {
     "name": "stdout",
     "output_type": "stream",
     "text": [
      "리뷰 수: 58\n"
     ]
    },
    {
     "name": "stderr",
     "output_type": "stream",
     "text": [
      " 33%|███▎      | 31/94 [07:44<11:20, 10.80s/it]"
     ]
    },
    {
     "name": "stdout",
     "output_type": "stream",
     "text": [
      "리뷰 수: 18\n",
      "리뷰 수: 20\n",
      "2024-11-29 00:00:00 2024-09-30 00:00:00\n"
     ]
    },
    {
     "name": "stderr",
     "output_type": "stream",
     "text": [
      " 34%|███▍      | 32/94 [07:55<11:13, 10.86s/it]"
     ]
    },
    {
     "name": "stdout",
     "output_type": "stream",
     "text": [
      "리뷰 수: 20\n",
      "2024-11-29 00:00:00 2024-09-30 00:00:00\n",
      "리뷰 페이지 마지막\n"
     ]
    },
    {
     "name": "stderr",
     "output_type": "stream",
     "text": [
      " 35%|███▌      | 33/94 [08:05<10:47, 10.62s/it]"
     ]
    },
    {
     "name": "stdout",
     "output_type": "stream",
     "text": [
      "리뷰 수: 11\n"
     ]
    },
    {
     "name": "stderr",
     "output_type": "stream",
     "text": [
      " 36%|███▌      | 34/94 [08:15<10:26, 10.44s/it]"
     ]
    },
    {
     "name": "stdout",
     "output_type": "stream",
     "text": [
      "리뷰 수: 6\n"
     ]
    },
    {
     "name": "stderr",
     "output_type": "stream",
     "text": [
      " 37%|███▋      | 35/94 [08:25<10:07, 10.29s/it]"
     ]
    },
    {
     "name": "stdout",
     "output_type": "stream",
     "text": [
      "리뷰 수: 17\n"
     ]
    },
    {
     "name": "stderr",
     "output_type": "stream",
     "text": [
      " 38%|███▊      | 36/94 [08:35<09:47, 10.14s/it]"
     ]
    },
    {
     "name": "stdout",
     "output_type": "stream",
     "text": [
      "리뷰 수: 1\n",
      "2025-01-04 00:00:00 2024-09-30 00:00:00\n",
      "리뷰 페이지 마지막\n",
      "리뷰 수: 20\n",
      "2024-10-25 00:00:00 2024-09-30 00:00:00\n",
      "리뷰 수: 20\n",
      "2024-10-25 00:00:00 2024-09-30 00:00:00\n"
     ]
    },
    {
     "name": "stderr",
     "output_type": "stream",
     "text": [
      " 39%|███▉      | 37/94 [08:48<10:16, 10.81s/it]"
     ]
    },
    {
     "name": "stdout",
     "output_type": "stream",
     "text": [
      "리뷰 수: 28\n"
     ]
    },
    {
     "name": "stderr",
     "output_type": "stream",
     "text": [
      " 40%|████      | 38/94 [08:57<09:47, 10.50s/it]"
     ]
    },
    {
     "name": "stdout",
     "output_type": "stream",
     "text": [
      "리뷰 수: 3\n"
     ]
    },
    {
     "name": "stderr",
     "output_type": "stream",
     "text": [
      " 41%|████▏     | 39/94 [09:05<08:50,  9.64s/it]"
     ]
    },
    {
     "name": "stdout",
     "output_type": "stream",
     "text": [
      "리뷰 없음\n"
     ]
    },
    {
     "name": "stderr",
     "output_type": "stream",
     "text": [
      " 43%|████▎     | 40/94 [09:15<08:42,  9.67s/it]"
     ]
    },
    {
     "name": "stdout",
     "output_type": "stream",
     "text": [
      "리뷰 수: 0\n"
     ]
    },
    {
     "name": "stderr",
     "output_type": "stream",
     "text": [
      " 44%|████▎     | 41/94 [09:25<08:35,  9.73s/it]"
     ]
    },
    {
     "name": "stdout",
     "output_type": "stream",
     "text": [
      "리뷰 수: 1\n",
      "2024-12-11 00:00:00 2024-09-30 00:00:00\n",
      "리뷰 페이지 마지막\n"
     ]
    },
    {
     "name": "stderr",
     "output_type": "stream",
     "text": [
      " 45%|████▍     | 42/94 [09:34<08:29,  9.79s/it]"
     ]
    },
    {
     "name": "stdout",
     "output_type": "stream",
     "text": [
      "리뷰 수: 12\n",
      "2024-12-04 00:00:00 2024-09-30 00:00:00\n",
      "리뷰 페이지 마지막\n"
     ]
    },
    {
     "name": "stderr",
     "output_type": "stream",
     "text": [
      " 46%|████▌     | 43/94 [09:44<08:21,  9.83s/it]"
     ]
    },
    {
     "name": "stdout",
     "output_type": "stream",
     "text": [
      "리뷰 수: 13\n",
      "리뷰 수: 20\n",
      "2024-12-10 00:00:00 2024-09-30 00:00:00\n",
      "리뷰 수: 20\n",
      "2024-12-10 00:00:00 2024-09-30 00:00:00\n"
     ]
    },
    {
     "name": "stderr",
     "output_type": "stream",
     "text": [
      " 47%|████▋     | 44/94 [09:57<08:48, 10.57s/it]"
     ]
    },
    {
     "name": "stdout",
     "output_type": "stream",
     "text": [
      "리뷰 수: 39\n",
      "리뷰 수: 20\n",
      "2024-12-15 00:00:00 2024-09-30 00:00:00\n",
      "리뷰 수: 20\n",
      "2024-12-15 00:00:00 2024-09-30 00:00:00\n",
      "리뷰 수: 40\n",
      "2024-12-08 00:00:00 2024-09-30 00:00:00\n",
      "리뷰 수: 60\n",
      "2024-12-04 00:00:00 2024-09-30 00:00:00\n",
      "리뷰 수: 80\n",
      "2024-11-28 00:00:00 2024-09-30 00:00:00\n",
      "리뷰 수: 100\n",
      "2024-10-10 00:00:00 2024-09-30 00:00:00\n"
     ]
    },
    {
     "name": "stderr",
     "output_type": "stream",
     "text": [
      " 48%|████▊     | 45/94 [10:15<10:31, 12.88s/it]"
     ]
    },
    {
     "name": "stdout",
     "output_type": "stream",
     "text": [
      "리뷰 수: 108\n"
     ]
    },
    {
     "name": "stderr",
     "output_type": "stream",
     "text": [
      " 49%|████▉     | 46/94 [10:25<09:34, 11.97s/it]"
     ]
    },
    {
     "name": "stdout",
     "output_type": "stream",
     "text": [
      "리뷰 수: 14\n",
      "2024-10-29 00:00:00 2024-09-30 00:00:00\n",
      "리뷰 페이지 마지막\n"
     ]
    },
    {
     "name": "stderr",
     "output_type": "stream",
     "text": [
      " 50%|█████     | 47/94 [10:35<08:54, 11.37s/it]"
     ]
    },
    {
     "name": "stdout",
     "output_type": "stream",
     "text": [
      "리뷰 수: 16\n",
      "2024-11-13 00:00:00 2024-09-30 00:00:00\n",
      "리뷰 페이지 마지막\n"
     ]
    },
    {
     "name": "stderr",
     "output_type": "stream",
     "text": [
      " 51%|█████     | 48/94 [10:45<08:24, 10.97s/it]"
     ]
    },
    {
     "name": "stdout",
     "output_type": "stream",
     "text": [
      "리뷰 수: 0\n",
      "리뷰 수: 20\n",
      "2024-11-23 00:00:00 2024-09-30 00:00:00\n",
      "리뷰 수: 20\n",
      "2024-11-23 00:00:00 2024-09-30 00:00:00\n",
      "리뷰 수: 40\n",
      "2024-10-18 00:00:00 2024-09-30 00:00:00\n"
     ]
    },
    {
     "name": "stderr",
     "output_type": "stream",
     "text": [
      " 52%|█████▏    | 49/94 [10:59<08:52, 11.83s/it]"
     ]
    },
    {
     "name": "stdout",
     "output_type": "stream",
     "text": [
      "리뷰 수: 43\n",
      "리뷰 수: 20\n",
      "2025-01-17 00:00:00 2024-09-30 00:00:00\n",
      "리뷰 수: 20\n",
      "2025-01-17 00:00:00 2024-09-30 00:00:00\n",
      "리뷰 수: 40\n",
      "2025-01-17 00:00:00 2024-09-30 00:00:00\n",
      "리뷰 수: 60\n",
      "2025-01-16 00:00:00 2024-09-30 00:00:00\n",
      "리뷰 수: 80\n",
      "2025-01-15 00:00:00 2024-09-30 00:00:00\n",
      "리뷰 수: 100\n",
      "2025-01-15 00:00:00 2024-09-30 00:00:00\n",
      "리뷰 수: 120\n",
      "2025-01-15 00:00:00 2024-09-30 00:00:00\n",
      "리뷰 수: 140\n",
      "2025-01-13 00:00:00 2024-09-30 00:00:00\n",
      "리뷰 수: 160\n",
      "2025-01-12 00:00:00 2024-09-30 00:00:00\n",
      "리뷰 수: 180\n",
      "2025-01-11 00:00:00 2024-09-30 00:00:00\n",
      "리뷰 수: 200\n",
      "2025-01-10 00:00:00 2024-09-30 00:00:00\n",
      "리뷰 수: 220\n",
      "2025-01-10 00:00:00 2024-09-30 00:00:00\n",
      "리뷰 수: 240\n",
      "2025-01-09 00:00:00 2024-09-30 00:00:00\n",
      "리뷰 수: 260\n",
      "2025-01-09 00:00:00 2024-09-30 00:00:00\n",
      "리뷰 수: 280\n",
      "2025-01-08 00:00:00 2024-09-30 00:00:00\n",
      "리뷰 수: 300\n",
      "2025-01-08 00:00:00 2024-09-30 00:00:00\n",
      "리뷰 수: 320\n",
      "2025-01-07 00:00:00 2024-09-30 00:00:00\n",
      "리뷰 수: 340\n",
      "2025-01-06 00:00:00 2024-09-30 00:00:00\n",
      "리뷰 수: 360\n",
      "2025-01-05 00:00:00 2024-09-30 00:00:00\n",
      "리뷰 수: 380\n",
      "2025-01-04 00:00:00 2024-09-30 00:00:00\n",
      "리뷰 수: 400\n",
      "2025-01-04 00:00:00 2024-09-30 00:00:00\n",
      "리뷰 수: 420\n",
      "2025-01-04 00:00:00 2024-09-30 00:00:00\n",
      "리뷰 수: 440\n",
      "2025-01-03 00:00:00 2024-09-30 00:00:00\n",
      "리뷰 수: 460\n",
      "2025-01-02 00:00:00 2024-09-30 00:00:00\n",
      "리뷰 수: 480\n",
      "2025-01-02 00:00:00 2024-09-30 00:00:00\n",
      "리뷰 수: 500\n",
      "2024-12-31 00:00:00 2024-09-30 00:00:00\n",
      "리뷰 수: 520\n",
      "2024-12-30 00:00:00 2024-09-30 00:00:00\n",
      "리뷰 수: 540\n",
      "2024-12-29 00:00:00 2024-09-30 00:00:00\n",
      "리뷰 수: 560\n",
      "2024-12-28 00:00:00 2024-09-30 00:00:00\n",
      "리뷰 수: 580\n",
      "2024-12-28 00:00:00 2024-09-30 00:00:00\n",
      "리뷰 수: 600\n",
      "2024-12-28 00:00:00 2024-09-30 00:00:00\n",
      "리뷰 수: 620\n",
      "2024-12-27 00:00:00 2024-09-30 00:00:00\n",
      "리뷰 수: 640\n",
      "2024-12-26 00:00:00 2024-09-30 00:00:00\n",
      "리뷰 수: 660\n",
      "2024-12-25 00:00:00 2024-09-30 00:00:00\n",
      "리뷰 수: 680\n",
      "2024-12-24 00:00:00 2024-09-30 00:00:00\n",
      "리뷰 수: 700\n",
      "2024-12-23 00:00:00 2024-09-30 00:00:00\n",
      "리뷰 수: 720\n",
      "2024-12-22 00:00:00 2024-09-30 00:00:00\n",
      "리뷰 수: 740\n",
      "2024-12-21 00:00:00 2024-09-30 00:00:00\n",
      "리뷰 수: 760\n",
      "2024-12-20 00:00:00 2024-09-30 00:00:00\n",
      "리뷰 수: 780\n",
      "2024-12-19 00:00:00 2024-09-30 00:00:00\n",
      "리뷰 수: 800\n",
      "2024-12-19 00:00:00 2024-09-30 00:00:00\n",
      "리뷰 수: 820\n",
      "2024-12-19 00:00:00 2024-09-30 00:00:00\n",
      "리뷰 수: 840\n",
      "2024-12-17 00:00:00 2024-09-30 00:00:00\n",
      "리뷰 수: 880\n",
      "2024-12-14 00:00:00 2024-09-30 00:00:00\n",
      "리뷰 수: 900\n",
      "2024-12-14 00:00:00 2024-09-30 00:00:00\n",
      "리뷰 수: 900\n",
      "2024-12-14 00:00:00 2024-09-30 00:00:00\n",
      "리뷰 수: 940\n",
      "2024-12-12 00:00:00 2024-09-30 00:00:00\n",
      "리뷰 수: 960\n",
      "2024-12-11 00:00:00 2024-09-30 00:00:00\n",
      "리뷰 수: 980\n",
      "2024-12-11 00:00:00 2024-09-30 00:00:00\n",
      "리뷰 수: 1000\n",
      "2024-12-09 00:00:00 2024-09-30 00:00:00\n"
     ]
    },
    {
     "name": "stderr",
     "output_type": "stream",
     "text": [
      " 53%|█████▎    | 50/94 [13:51<43:58, 59.97s/it]"
     ]
    },
    {
     "name": "stdout",
     "output_type": "stream",
     "text": [
      "리뷰 수: 1000\n",
      "2024-12-09 00:00:00 2024-09-30 00:00:00\n",
      "리뷰 페이지 마지막\n"
     ]
    },
    {
     "name": "stderr",
     "output_type": "stream",
     "text": [
      " 54%|█████▍    | 51/94 [14:01<32:13, 44.97s/it]"
     ]
    },
    {
     "name": "stdout",
     "output_type": "stream",
     "text": [
      "리뷰 수: 3\n"
     ]
    },
    {
     "name": "stderr",
     "output_type": "stream",
     "text": [
      " 55%|█████▌    | 52/94 [14:11<24:06, 34.44s/it]"
     ]
    },
    {
     "name": "stdout",
     "output_type": "stream",
     "text": [
      "리뷰 수: 13\n",
      "리뷰 수: 20\n",
      "2025-01-15 00:00:00 2024-09-30 00:00:00\n",
      "리뷰 수: 20\n",
      "2025-01-15 00:00:00 2024-09-30 00:00:00\n",
      "리뷰 수: 40\n",
      "2025-01-14 00:00:00 2024-09-30 00:00:00\n",
      "리뷰 수: 60\n",
      "2025-01-10 00:00:00 2024-09-30 00:00:00\n",
      "리뷰 수: 80\n",
      "2025-01-08 00:00:00 2024-09-30 00:00:00\n",
      "리뷰 수: 100\n",
      "2025-01-04 00:00:00 2024-09-30 00:00:00\n",
      "리뷰 수: 120\n",
      "2025-01-01 00:00:00 2024-09-30 00:00:00\n",
      "리뷰 수: 140\n",
      "2024-12-30 00:00:00 2024-09-30 00:00:00\n",
      "리뷰 수: 160\n",
      "2024-12-28 00:00:00 2024-09-30 00:00:00\n",
      "리뷰 수: 180\n",
      "2024-12-27 00:00:00 2024-09-30 00:00:00\n",
      "리뷰 수: 200\n",
      "2024-12-25 00:00:00 2024-09-30 00:00:00\n",
      "리뷰 수: 220\n",
      "2024-12-24 00:00:00 2024-09-30 00:00:00\n",
      "리뷰 수: 240\n",
      "2024-12-22 00:00:00 2024-09-30 00:00:00\n",
      "리뷰 수: 260\n",
      "2024-12-20 00:00:00 2024-09-30 00:00:00\n",
      "리뷰 수: 280\n",
      "2024-12-18 00:00:00 2024-09-30 00:00:00\n",
      "리뷰 수: 300\n",
      "2024-12-17 00:00:00 2024-09-30 00:00:00\n",
      "리뷰 수: 320\n",
      "2024-12-14 00:00:00 2024-09-30 00:00:00\n",
      "리뷰 수: 340\n",
      "2024-12-12 00:00:00 2024-09-30 00:00:00\n",
      "리뷰 수: 360\n",
      "2024-12-11 00:00:00 2024-09-30 00:00:00\n",
      "리뷰 수: 380\n",
      "2024-12-10 00:00:00 2024-09-30 00:00:00\n",
      "리뷰 수: 400\n",
      "2024-12-08 00:00:00 2024-09-30 00:00:00\n",
      "리뷰 수: 420\n",
      "2024-12-05 00:00:00 2024-09-30 00:00:00\n",
      "리뷰 수: 440\n",
      "2024-12-04 00:00:00 2024-09-30 00:00:00\n",
      "리뷰 수: 460\n",
      "2024-12-02 00:00:00 2024-09-30 00:00:00\n",
      "리뷰 수: 480\n",
      "2024-11-29 00:00:00 2024-09-30 00:00:00\n",
      "리뷰 수: 500\n",
      "2024-11-28 00:00:00 2024-09-30 00:00:00\n",
      "리뷰 수: 520\n",
      "2024-11-27 00:00:00 2024-09-30 00:00:00\n",
      "리뷰 수: 540\n",
      "2024-11-25 00:00:00 2024-09-30 00:00:00\n",
      "리뷰 수: 560\n",
      "2024-11-23 00:00:00 2024-09-30 00:00:00\n",
      "리뷰 수: 580\n",
      "2024-11-21 00:00:00 2024-09-30 00:00:00\n",
      "리뷰 수: 620\n",
      "2024-11-19 00:00:00 2024-09-30 00:00:00\n",
      "리뷰 수: 620\n",
      "2024-11-19 00:00:00 2024-09-30 00:00:00\n",
      "리뷰 수: 660\n",
      "2024-11-13 00:00:00 2024-09-30 00:00:00\n",
      "리뷰 수: 660\n",
      "2024-11-13 00:00:00 2024-09-30 00:00:00\n",
      "리뷰 수: 680\n",
      "2024-11-11 00:00:00 2024-09-30 00:00:00\n",
      "리뷰 수: 700\n",
      "2024-11-09 00:00:00 2024-09-30 00:00:00\n",
      "리뷰 수: 740\n",
      "2024-11-03 00:00:00 2024-09-30 00:00:00\n",
      "리뷰 수: 760\n",
      "2024-10-30 00:00:00 2024-09-30 00:00:00\n",
      "리뷰 수: 760\n",
      "2024-10-30 00:00:00 2024-09-30 00:00:00\n",
      "리뷰 수: 800\n",
      "2024-10-11 00:00:00 2024-09-30 00:00:00\n"
     ]
    },
    {
     "name": "stderr",
     "output_type": "stream",
     "text": [
      " 56%|█████▋    | 53/94 [16:33<45:36, 66.76s/it]"
     ]
    },
    {
     "name": "stdout",
     "output_type": "stream",
     "text": [
      "리뷰 수: 809\n",
      "2024-10-08 00:00:00 2024-09-30 00:00:00\n",
      "리뷰 페이지 마지막\n"
     ]
    },
    {
     "name": "stderr",
     "output_type": "stream",
     "text": [
      " 57%|█████▋    | 54/94 [16:43<33:07, 49.69s/it]"
     ]
    },
    {
     "name": "stdout",
     "output_type": "stream",
     "text": [
      "리뷰 수: 4\n"
     ]
    },
    {
     "name": "stderr",
     "output_type": "stream",
     "text": [
      " 59%|█████▊    | 55/94 [16:53<24:31, 37.73s/it]"
     ]
    },
    {
     "name": "stdout",
     "output_type": "stream",
     "text": [
      "리뷰 수: 12\n"
     ]
    },
    {
     "name": "stderr",
     "output_type": "stream",
     "text": [
      " 60%|█████▉    | 56/94 [17:02<18:34, 29.34s/it]"
     ]
    },
    {
     "name": "stdout",
     "output_type": "stream",
     "text": [
      "리뷰 수: 4\n"
     ]
    },
    {
     "name": "stderr",
     "output_type": "stream",
     "text": [
      " 61%|██████    | 57/94 [17:12<14:29, 23.49s/it]"
     ]
    },
    {
     "name": "stdout",
     "output_type": "stream",
     "text": [
      "리뷰 수: 5\n"
     ]
    },
    {
     "name": "stderr",
     "output_type": "stream",
     "text": [
      " 62%|██████▏   | 58/94 [17:22<11:39, 19.42s/it]"
     ]
    },
    {
     "name": "stdout",
     "output_type": "stream",
     "text": [
      "리뷰 수: 4\n"
     ]
    },
    {
     "name": "stderr",
     "output_type": "stream",
     "text": [
      " 63%|██████▎   | 59/94 [17:32<09:40, 16.58s/it]"
     ]
    },
    {
     "name": "stdout",
     "output_type": "stream",
     "text": [
      "리뷰 수: 9\n"
     ]
    },
    {
     "name": "stderr",
     "output_type": "stream",
     "text": [
      " 64%|██████▍   | 60/94 [17:42<08:16, 14.61s/it]"
     ]
    },
    {
     "name": "stdout",
     "output_type": "stream",
     "text": [
      "리뷰 수: 7\n",
      "리뷰 수: 20\n",
      "2024-12-05 00:00:00 2024-09-30 00:00:00\n",
      "리뷰 수: 20\n",
      "2024-12-05 00:00:00 2024-09-30 00:00:00\n"
     ]
    },
    {
     "name": "stderr",
     "output_type": "stream",
     "text": [
      " 65%|██████▍   | 61/94 [17:55<07:42, 14.03s/it]"
     ]
    },
    {
     "name": "stdout",
     "output_type": "stream",
     "text": [
      "리뷰 수: 33\n"
     ]
    },
    {
     "name": "stderr",
     "output_type": "stream",
     "text": [
      " 66%|██████▌   | 62/94 [18:05<06:53, 12.91s/it]"
     ]
    },
    {
     "name": "stdout",
     "output_type": "stream",
     "text": [
      "리뷰 수: 14\n",
      "2024-11-29 00:00:00 2024-09-30 00:00:00\n",
      "리뷰 페이지 마지막\n"
     ]
    },
    {
     "name": "stderr",
     "output_type": "stream",
     "text": [
      " 67%|██████▋   | 63/94 [18:15<06:12, 12.01s/it]"
     ]
    },
    {
     "name": "stdout",
     "output_type": "stream",
     "text": [
      "리뷰 수: 19\n",
      "리뷰 수: 20\n",
      "2024-12-21 00:00:00 2024-09-30 00:00:00\n",
      "리뷰 수: 20\n",
      "2024-12-21 00:00:00 2024-09-30 00:00:00\n"
     ]
    },
    {
     "name": "stderr",
     "output_type": "stream",
     "text": [
      " 68%|██████▊   | 64/94 [18:28<06:07, 12.24s/it]"
     ]
    },
    {
     "name": "stdout",
     "output_type": "stream",
     "text": [
      "리뷰 수: 39\n"
     ]
    },
    {
     "name": "stderr",
     "output_type": "stream",
     "text": [
      " 69%|██████▉   | 65/94 [18:38<05:34, 11.53s/it]"
     ]
    },
    {
     "name": "stdout",
     "output_type": "stream",
     "text": [
      "리뷰 수: 5\n",
      "리뷰 수: 20\n",
      "2025-01-07 00:00:00 2024-09-30 00:00:00\n",
      "리뷰 수: 20\n",
      "2025-01-07 00:00:00 2024-09-30 00:00:00\n",
      "리뷰 수: 40\n",
      "2024-12-11 00:00:00 2024-09-30 00:00:00\n",
      "리뷰 수: 60\n",
      "2024-11-18 00:00:00 2024-09-30 00:00:00\n",
      "리뷰 수: 80\n",
      "2024-10-24 00:00:00 2024-09-30 00:00:00\n",
      "리뷰 수: 100\n",
      "2024-10-08 00:00:00 2024-09-30 00:00:00\n"
     ]
    },
    {
     "name": "stderr",
     "output_type": "stream",
     "text": [
      " 70%|███████   | 66/94 [18:56<06:20, 13.58s/it]"
     ]
    },
    {
     "name": "stdout",
     "output_type": "stream",
     "text": [
      "리뷰 수: 118\n",
      "리뷰 수: 20\n",
      "2024-12-26 00:00:00 2024-09-30 00:00:00\n",
      "리뷰 수: 20\n",
      "2024-12-26 00:00:00 2024-09-30 00:00:00\n",
      "리뷰 수: 40\n",
      "2024-10-30 00:00:00 2024-09-30 00:00:00\n"
     ]
    },
    {
     "name": "stderr",
     "output_type": "stream",
     "text": [
      " 71%|███████▏  | 67/94 [19:10<06:08, 13.65s/it]"
     ]
    },
    {
     "name": "stdout",
     "output_type": "stream",
     "text": [
      "리뷰 수: 57\n",
      "리뷰 수: 20\n",
      "2024-10-11 00:00:00 2024-09-30 00:00:00\n",
      "리뷰 수: 20\n",
      "2024-10-11 00:00:00 2024-09-30 00:00:00\n"
     ]
    },
    {
     "name": "stderr",
     "output_type": "stream",
     "text": [
      " 72%|███████▏  | 68/94 [19:22<05:44, 13.26s/it]"
     ]
    },
    {
     "name": "stdout",
     "output_type": "stream",
     "text": [
      "리뷰 수: 22\n",
      "리뷰 수: 20\n",
      "2024-11-19 00:00:00 2024-09-30 00:00:00\n",
      "리뷰 수: 20\n",
      "2024-11-19 00:00:00 2024-09-30 00:00:00\n",
      "리뷰 수: 40\n",
      "2024-10-11 00:00:00 2024-09-30 00:00:00\n"
     ]
    },
    {
     "name": "stderr",
     "output_type": "stream",
     "text": [
      " 73%|███████▎  | 69/94 [19:36<05:34, 13.39s/it]"
     ]
    },
    {
     "name": "stdout",
     "output_type": "stream",
     "text": [
      "리뷰 수: 46\n"
     ]
    },
    {
     "name": "stderr",
     "output_type": "stream",
     "text": [
      " 74%|███████▍  | 70/94 [19:46<04:57, 12.38s/it]"
     ]
    },
    {
     "name": "stdout",
     "output_type": "stream",
     "text": [
      "리뷰 수: 4\n"
     ]
    },
    {
     "name": "stderr",
     "output_type": "stream",
     "text": [
      " 76%|███████▌  | 71/94 [19:56<04:27, 11.62s/it]"
     ]
    },
    {
     "name": "stdout",
     "output_type": "stream",
     "text": [
      "리뷰 수: 12\n",
      "리뷰 수: 20\n",
      "2025-01-07 00:00:00 2024-09-30 00:00:00\n",
      "리뷰 수: 20\n",
      "2025-01-07 00:00:00 2024-09-30 00:00:00\n",
      "리뷰 수: 40\n",
      "2025-01-01 00:00:00 2024-09-30 00:00:00\n",
      "리뷰 수: 60\n",
      "2024-12-21 00:00:00 2024-09-30 00:00:00\n",
      "리뷰 수: 80\n",
      "2024-12-08 00:00:00 2024-09-30 00:00:00\n",
      "리뷰 수: 100\n",
      "2024-11-21 00:00:00 2024-09-30 00:00:00\n"
     ]
    },
    {
     "name": "stderr",
     "output_type": "stream",
     "text": [
      " 77%|███████▋  | 72/94 [20:15<05:02, 13.75s/it]"
     ]
    },
    {
     "name": "stdout",
     "output_type": "stream",
     "text": [
      "리뷰 수: 120\n",
      "2024-11-09 00:00:00 2024-09-30 00:00:00\n",
      "리뷰 페이지 마지막\n"
     ]
    },
    {
     "name": "stderr",
     "output_type": "stream",
     "text": [
      " 78%|███████▊  | 73/94 [20:24<04:24, 12.59s/it]"
     ]
    },
    {
     "name": "stdout",
     "output_type": "stream",
     "text": [
      "리뷰 수: 12\n"
     ]
    },
    {
     "name": "stderr",
     "output_type": "stream",
     "text": [
      " 79%|███████▊  | 74/94 [20:34<03:55, 11.80s/it]"
     ]
    },
    {
     "name": "stdout",
     "output_type": "stream",
     "text": [
      "리뷰 수: 5\n"
     ]
    },
    {
     "name": "stderr",
     "output_type": "stream",
     "text": [
      " 80%|███████▉  | 75/94 [20:42<03:20, 10.53s/it]"
     ]
    },
    {
     "name": "stdout",
     "output_type": "stream",
     "text": [
      "리뷰 없음\n"
     ]
    },
    {
     "name": "stderr",
     "output_type": "stream",
     "text": [
      " 81%|████████  | 76/94 [20:52<03:06, 10.34s/it]"
     ]
    },
    {
     "name": "stdout",
     "output_type": "stream",
     "text": [
      "리뷰 수: 16\n",
      "2024-11-13 00:00:00 2024-09-30 00:00:00\n",
      "리뷰 페이지 마지막\n"
     ]
    },
    {
     "name": "stderr",
     "output_type": "stream",
     "text": [
      " 82%|████████▏ | 77/94 [21:02<02:54, 10.24s/it]"
     ]
    },
    {
     "name": "stdout",
     "output_type": "stream",
     "text": [
      "리뷰 수: 15\n"
     ]
    },
    {
     "name": "stderr",
     "output_type": "stream",
     "text": [
      " 83%|████████▎ | 78/94 [21:12<02:41, 10.12s/it]"
     ]
    },
    {
     "name": "stdout",
     "output_type": "stream",
     "text": [
      "리뷰 수: 19\n"
     ]
    },
    {
     "name": "stderr",
     "output_type": "stream",
     "text": [
      " 84%|████████▍ | 79/94 [21:22<02:32, 10.14s/it]"
     ]
    },
    {
     "name": "stdout",
     "output_type": "stream",
     "text": [
      "리뷰 수: 1\n"
     ]
    },
    {
     "name": "stderr",
     "output_type": "stream",
     "text": [
      " 85%|████████▌ | 80/94 [21:32<02:20, 10.07s/it]"
     ]
    },
    {
     "name": "stdout",
     "output_type": "stream",
     "text": [
      "리뷰 수: 18\n"
     ]
    },
    {
     "name": "stderr",
     "output_type": "stream",
     "text": [
      " 86%|████████▌ | 81/94 [21:42<02:10, 10.04s/it]"
     ]
    },
    {
     "name": "stdout",
     "output_type": "stream",
     "text": [
      "리뷰 수: 6\n"
     ]
    },
    {
     "name": "stderr",
     "output_type": "stream",
     "text": [
      " 87%|████████▋ | 82/94 [21:52<02:00, 10.03s/it]"
     ]
    },
    {
     "name": "stdout",
     "output_type": "stream",
     "text": [
      "리뷰 수: 2\n",
      "리뷰 수: 20\n",
      "2024-12-26 00:00:00 2024-09-30 00:00:00\n",
      "리뷰 수: 20\n",
      "2024-12-26 00:00:00 2024-09-30 00:00:00\n",
      "리뷰 수: 40\n",
      "2024-11-09 00:00:00 2024-09-30 00:00:00\n",
      "리뷰 수: 60\n",
      "2024-10-07 00:00:00 2024-09-30 00:00:00\n"
     ]
    },
    {
     "name": "stderr",
     "output_type": "stream",
     "text": [
      " 88%|████████▊ | 83/94 [22:07<02:06, 11.53s/it]"
     ]
    },
    {
     "name": "stdout",
     "output_type": "stream",
     "text": [
      "리뷰 수: 62\n",
      "리뷰 수: 20\n",
      "2025-01-17 00:00:00 2024-09-30 00:00:00\n",
      "리뷰 수: 20\n",
      "2025-01-17 00:00:00 2024-09-30 00:00:00\n",
      "리뷰 수: 40\n",
      "2025-01-16 00:00:00 2024-09-30 00:00:00\n",
      "리뷰 수: 60\n",
      "2025-01-16 00:00:00 2024-09-30 00:00:00\n",
      "리뷰 수: 80\n",
      "2025-01-16 00:00:00 2024-09-30 00:00:00\n",
      "리뷰 수: 100\n",
      "2025-01-06 00:00:00 2024-09-30 00:00:00\n",
      "리뷰 수: 120\n",
      "2024-12-30 00:00:00 2024-09-30 00:00:00\n",
      "리뷰 수: 140\n",
      "2024-12-27 00:00:00 2024-09-30 00:00:00\n",
      "리뷰 수: 160\n",
      "2024-12-27 00:00:00 2024-09-30 00:00:00\n",
      "리뷰 수: 180\n",
      "2024-12-23 00:00:00 2024-09-30 00:00:00\n",
      "리뷰 수: 200\n",
      "2024-12-21 00:00:00 2024-09-30 00:00:00\n",
      "리뷰 수: 220\n",
      "2024-12-21 00:00:00 2024-09-30 00:00:00\n",
      "리뷰 수: 240\n",
      "2024-12-12 00:00:00 2024-09-30 00:00:00\n",
      "리뷰 수: 260\n",
      "2024-12-10 00:00:00 2024-09-30 00:00:00\n",
      "리뷰 수: 280\n",
      "2024-12-07 00:00:00 2024-09-30 00:00:00\n",
      "리뷰 수: 300\n",
      "2024-12-05 00:00:00 2024-09-30 00:00:00\n",
      "리뷰 수: 320\n",
      "2024-12-04 00:00:00 2024-09-30 00:00:00\n",
      "리뷰 수: 340\n",
      "2024-11-30 00:00:00 2024-09-30 00:00:00\n",
      "리뷰 수: 360\n",
      "2024-11-27 00:00:00 2024-09-30 00:00:00\n",
      "리뷰 수: 380\n",
      "2024-11-25 00:00:00 2024-09-30 00:00:00\n",
      "리뷰 수: 400\n",
      "2024-11-22 00:00:00 2024-09-30 00:00:00\n",
      "리뷰 수: 420\n",
      "2024-11-20 00:00:00 2024-09-30 00:00:00\n",
      "리뷰 수: 440\n",
      "2024-11-16 00:00:00 2024-09-30 00:00:00\n",
      "리뷰 수: 460\n",
      "2024-11-14 00:00:00 2024-09-30 00:00:00\n",
      "리뷰 수: 480\n",
      "2024-11-09 00:00:00 2024-09-30 00:00:00\n",
      "리뷰 수: 500\n",
      "2024-11-08 00:00:00 2024-09-30 00:00:00\n",
      "리뷰 수: 520\n",
      "2024-11-07 00:00:00 2024-09-30 00:00:00\n",
      "리뷰 수: 540\n",
      "2024-11-07 00:00:00 2024-09-30 00:00:00\n",
      "리뷰 수: 560\n",
      "2024-11-02 00:00:00 2024-09-30 00:00:00\n",
      "리뷰 수: 580\n",
      "2024-11-01 00:00:00 2024-09-30 00:00:00\n",
      "리뷰 수: 620\n",
      "2024-10-29 00:00:00 2024-09-30 00:00:00\n",
      "리뷰 수: 620\n",
      "2024-10-29 00:00:00 2024-09-30 00:00:00\n",
      "리뷰 수: 640\n",
      "2024-10-25 00:00:00 2024-09-30 00:00:00\n",
      "리뷰 수: 660\n",
      "2024-10-23 00:00:00 2024-09-30 00:00:00\n",
      "리뷰 수: 680\n",
      "2024-10-22 00:00:00 2024-09-30 00:00:00\n",
      "리뷰 수: 700\n",
      "2024-10-19 00:00:00 2024-09-30 00:00:00\n",
      "리뷰 수: 720\n",
      "2024-10-16 00:00:00 2024-09-30 00:00:00\n",
      "리뷰 수: 760\n",
      "2024-10-11 00:00:00 2024-09-30 00:00:00\n",
      "리뷰 수: 760\n",
      "2024-10-11 00:00:00 2024-09-30 00:00:00\n",
      "리뷰 수: 780\n",
      "2024-10-08 00:00:00 2024-09-30 00:00:00\n",
      "리뷰 수: 820\n",
      "2024-10-04 00:00:00 2024-09-30 00:00:00\n",
      "리뷰 수: 840\n",
      "2024-10-02 00:00:00 2024-09-30 00:00:00\n"
     ]
    },
    {
     "name": "stderr",
     "output_type": "stream",
     "text": [
      " 89%|████████▉ | 84/94 [24:17<07:51, 47.16s/it]"
     ]
    },
    {
     "name": "stdout",
     "output_type": "stream",
     "text": [
      "리뷰 수: 859\n"
     ]
    },
    {
     "name": "stderr",
     "output_type": "stream",
     "text": [
      " 90%|█████████ | 85/94 [24:27<05:23, 35.97s/it]"
     ]
    },
    {
     "name": "stdout",
     "output_type": "stream",
     "text": [
      "리뷰 수: 10\n",
      "2024-12-04 00:00:00 2024-09-30 00:00:00\n",
      "리뷰 페이지 마지막\n"
     ]
    },
    {
     "name": "stderr",
     "output_type": "stream",
     "text": [
      " 91%|█████████▏| 86/94 [24:37<03:45, 28.14s/it]"
     ]
    },
    {
     "name": "stdout",
     "output_type": "stream",
     "text": [
      "리뷰 수: 13\n",
      "리뷰 수: 20\n",
      "2024-12-31 00:00:00 2024-09-30 00:00:00\n",
      "리뷰 수: 20\n",
      "2024-12-31 00:00:00 2024-09-30 00:00:00\n",
      "리뷰 수: 40\n",
      "2024-12-28 00:00:00 2024-09-30 00:00:00\n",
      "리뷰 수: 60\n",
      "2024-12-26 00:00:00 2024-09-30 00:00:00\n",
      "리뷰 수: 80\n",
      "2024-12-21 00:00:00 2024-09-30 00:00:00\n",
      "리뷰 수: 100\n",
      "2024-11-20 00:00:00 2024-09-30 00:00:00\n",
      "리뷰 수: 120\n",
      "2024-11-16 00:00:00 2024-09-30 00:00:00\n",
      "리뷰 수: 140\n",
      "2024-11-13 00:00:00 2024-09-30 00:00:00\n",
      "리뷰 수: 160\n",
      "2024-11-08 00:00:00 2024-09-30 00:00:00\n",
      "리뷰 수: 180\n",
      "2024-11-06 00:00:00 2024-09-30 00:00:00\n",
      "리뷰 수: 200\n",
      "2024-11-03 00:00:00 2024-09-30 00:00:00\n",
      "리뷰 수: 220\n",
      "2024-11-01 00:00:00 2024-09-30 00:00:00\n",
      "리뷰 수: 240\n",
      "2024-10-29 00:00:00 2024-09-30 00:00:00\n",
      "리뷰 수: 260\n",
      "2024-10-23 00:00:00 2024-09-30 00:00:00\n",
      "리뷰 수: 280\n",
      "2024-10-18 00:00:00 2024-09-30 00:00:00\n",
      "리뷰 수: 300\n",
      "2024-10-16 00:00:00 2024-09-30 00:00:00\n",
      "리뷰 수: 320\n",
      "2024-10-12 00:00:00 2024-09-30 00:00:00\n",
      "리뷰 수: 340\n",
      "2024-10-08 00:00:00 2024-09-30 00:00:00\n",
      "리뷰 수: 360\n",
      "2024-10-03 00:00:00 2024-09-30 00:00:00\n"
     ]
    },
    {
     "name": "stderr",
     "output_type": "stream",
     "text": [
      " 93%|█████████▎| 87/94 [25:23<03:54, 33.50s/it]"
     ]
    },
    {
     "name": "stdout",
     "output_type": "stream",
     "text": [
      "리뷰 수: 374\n",
      "리뷰 수: 20\n",
      "2024-10-12 00:00:00 2024-09-30 00:00:00\n",
      "리뷰 수: 20\n",
      "2024-10-12 00:00:00 2024-09-30 00:00:00\n"
     ]
    },
    {
     "name": "stderr",
     "output_type": "stream",
     "text": [
      " 94%|█████████▎| 88/94 [25:35<02:42, 27.14s/it]"
     ]
    },
    {
     "name": "stdout",
     "output_type": "stream",
     "text": [
      "리뷰 수: 21\n"
     ]
    },
    {
     "name": "stderr",
     "output_type": "stream",
     "text": [
      " 95%|█████████▍| 89/94 [25:45<01:49, 21.96s/it]"
     ]
    },
    {
     "name": "stdout",
     "output_type": "stream",
     "text": [
      "리뷰 수: 10\n"
     ]
    },
    {
     "name": "stderr",
     "output_type": "stream",
     "text": [
      " 96%|█████████▌| 90/94 [25:55<01:13, 18.45s/it]"
     ]
    },
    {
     "name": "stdout",
     "output_type": "stream",
     "text": [
      "리뷰 수: 1\n",
      "리뷰 수: 20\n",
      "2024-10-26 00:00:00 2024-09-30 00:00:00\n",
      "리뷰 수: 20\n",
      "2024-10-26 00:00:00 2024-09-30 00:00:00\n"
     ]
    },
    {
     "name": "stderr",
     "output_type": "stream",
     "text": [
      " 97%|█████████▋| 91/94 [26:07<00:49, 16.58s/it]"
     ]
    },
    {
     "name": "stdout",
     "output_type": "stream",
     "text": [
      "리뷰 수: 28\n"
     ]
    },
    {
     "name": "stderr",
     "output_type": "stream",
     "text": [
      " 98%|█████████▊| 92/94 [26:17<00:29, 14.59s/it]"
     ]
    },
    {
     "name": "stdout",
     "output_type": "stream",
     "text": [
      "리뷰 수: 16\n",
      "리뷰 수: 20\n",
      "2024-11-07 00:00:00 2024-09-30 00:00:00\n",
      "리뷰 수: 20\n",
      "2024-11-07 00:00:00 2024-09-30 00:00:00\n"
     ]
    },
    {
     "name": "stderr",
     "output_type": "stream",
     "text": [
      " 99%|█████████▉| 93/94 [26:30<00:13, 13.90s/it]"
     ]
    },
    {
     "name": "stdout",
     "output_type": "stream",
     "text": [
      "리뷰 수: 25\n"
     ]
    },
    {
     "name": "stderr",
     "output_type": "stream",
     "text": [
      "100%|██████████| 94/94 [26:40<00:00, 17.02s/it]"
     ]
    },
    {
     "name": "stdout",
     "output_type": "stream",
     "text": [
      "리뷰 수: 6\n"
     ]
    },
    {
     "name": "stderr",
     "output_type": "stream",
     "text": [
      "\n"
     ]
    }
   ],
   "source": [
    "info_dic = {}\n",
    "i = 0\n",
    "for link in tqdm(product_links):\n",
    "    time.sleep(2)\n",
    "    # info \n",
    "    try:\n",
    "        info = crawl_info(link) \n",
    "    except Exception as e:\n",
    "        print(e)\n",
    "        # i += 1\n",
    "        continue\n",
    "    time.sleep(1)\n",
    "    # review\n",
    "    satisfaction, review = crawl_review(link)\n",
    "\n",
    "    # 데이터 저장\n",
    "    info['satisfaction'] = satisfaction\n",
    "    info['link'] = link\n",
    "\n",
    "\n",
    "    # 리뷰가 없는 상품은 건너뜁니다.\n",
    "    if info['num_review'] == '0' or info['num_review'] == 0:\n",
    "        # i += 1\n",
    "        continue\n",
    "\n",
    "\n",
    "    # info_dic에 상품 정보 저장\n",
    "    info_dic[info['name']] = info\n",
    "\n",
    "    # 각 상품별로 리뷰 모음 딕셔너리가 생성됩니다.\n",
    "    # 저장 -> csv\n",
    "    review_df = pd.DataFrame(review)\n",
    "    review_df['product'] = info['name']\n",
    "\n",
    "    review_df.to_csv(f\"./웃긴선물/{i}.csv\", index=False)\n",
    "    i += 1\n",
    "\n",
    "    # 100개 크롤링 후 종료\n",
    "    if len(info_dic) >= 100:\n",
    "        break\n",
    "\n",
    "info_df = pd.DataFrame(info_dic).T\n",
    "info_df.to_csv(\"./웃긴선물/metadata.csv\", index=False)"
   ]
  },
  {
   "cell_type": "markdown",
   "metadata": {},
   "source": [
    "### (탭별로)"
   ]
  },
  {
   "cell_type": "code",
   "execution_count": 110,
   "metadata": {},
   "outputs": [
    {
     "name": "stdout",
     "output_type": "stream",
     "text": [
      "중복 없는 상품 수: 20\n",
      "중복 없는 상품 수: 20\n",
      "중복 없는 상품 수: 20\n",
      "중복 없는 상품 수: 20\n",
      "중복 없는 상품 수: 20\n",
      "수집된 상품 링크:\n",
      "https://gift.kakao.com/product/749180?banner_id=747&campaign_code=null\n",
      "https://gift.kakao.com/product/6376669?banner_id=747&campaign_code=null\n",
      "https://gift.kakao.com/product/7462331?banner_id=747&campaign_code=null\n",
      "https://gift.kakao.com/product/37794?banner_id=747&campaign_code=null\n",
      "https://gift.kakao.com/product/5827254?banner_id=747&campaign_code=null\n",
      "https://gift.kakao.com/product/10483683?banner_id=747&campaign_code=null\n",
      "https://gift.kakao.com/product/2324542?banner_id=747&campaign_code=null\n",
      "https://gift.kakao.com/product/9457951?banner_id=747&campaign_code=null\n",
      "https://gift.kakao.com/product/10777533?banner_id=747&campaign_code=null\n",
      "https://gift.kakao.com/product/10669211?banner_id=747&campaign_code=null\n",
      "https://gift.kakao.com/product/10969889?banner_id=747&campaign_code=null\n",
      "https://gift.kakao.com/product/10674544?banner_id=747&campaign_code=null\n",
      "https://gift.kakao.com/product/9664955?banner_id=747&campaign_code=null\n",
      "https://gift.kakao.com/product/10246853?banner_id=747&campaign_code=null\n",
      "https://gift.kakao.com/product/7075501?banner_id=747&campaign_code=null\n",
      "https://gift.kakao.com/product/1186213?banner_id=747&campaign_code=null\n",
      "https://gift.kakao.com/product/5330294?banner_id=747&campaign_code=null\n",
      "https://gift.kakao.com/product/8062353?banner_id=747&campaign_code=null\n",
      "https://gift.kakao.com/product/6111366?banner_id=747&campaign_code=null\n",
      "https://gift.kakao.com/product/10076109?banner_id=747&campaign_code=null\n",
      "https://gift.kakao.com/product/5936952?banner_id=747&campaign_code=null\n",
      "https://gift.kakao.com/product/2345312?banner_id=747&campaign_code=null\n",
      "https://gift.kakao.com/product/7757822?banner_id=747&campaign_code=null\n",
      "https://gift.kakao.com/product/8224714?banner_id=747&campaign_code=null\n",
      "https://gift.kakao.com/product/8000602?banner_id=747&campaign_code=null\n",
      "https://gift.kakao.com/product/9215303?banner_id=747&campaign_code=null\n",
      "https://gift.kakao.com/product/7220402?banner_id=747&campaign_code=null\n",
      "https://gift.kakao.com/product/6080480?banner_id=747&campaign_code=null\n",
      "https://gift.kakao.com/product/5276165?banner_id=747&campaign_code=null\n",
      "https://gift.kakao.com/product/5325424?banner_id=747&campaign_code=null\n",
      "https://gift.kakao.com/product/2336057?banner_id=747&campaign_code=null\n",
      "https://gift.kakao.com/product/8156410?banner_id=747&campaign_code=null\n",
      "https://gift.kakao.com/product/7831426?banner_id=747&campaign_code=null\n",
      "https://gift.kakao.com/product/7326089?banner_id=747&campaign_code=null\n",
      "https://gift.kakao.com/product/2438319?banner_id=747&campaign_code=null\n",
      "https://gift.kakao.com/product/341636?banner_id=747&campaign_code=null\n",
      "https://gift.kakao.com/product/7829086?banner_id=747&campaign_code=null\n",
      "https://gift.kakao.com/product/7184595?banner_id=747&campaign_code=null\n",
      "https://gift.kakao.com/product/7188357?banner_id=747&campaign_code=null\n",
      "https://gift.kakao.com/product/6989444?banner_id=747&campaign_code=null\n",
      "총 40개의 상품 링크 수집 완료\n"
     ]
    },
    {
     "name": "stderr",
     "output_type": "stream",
     "text": [
      "  2%|▎         | 1/40 [00:09<06:26,  9.92s/it]"
     ]
    },
    {
     "name": "stdout",
     "output_type": "stream",
     "text": [
      "리뷰 수: 5\n"
     ]
    },
    {
     "name": "stderr",
     "output_type": "stream",
     "text": [
      "  5%|▌         | 2/40 [00:19<06:14,  9.86s/it]"
     ]
    },
    {
     "name": "stdout",
     "output_type": "stream",
     "text": [
      "리뷰 수: 5\n"
     ]
    },
    {
     "name": "stderr",
     "output_type": "stream",
     "text": [
      "  8%|▊         | 3/40 [00:29<06:05,  9.88s/it]"
     ]
    },
    {
     "name": "stdout",
     "output_type": "stream",
     "text": [
      "리뷰 수: 3\n",
      "리뷰 수: 20\n",
      "2024-10-09 00:00:00 2024-09-30 00:00:00\n",
      "리뷰 수: 20\n",
      "2024-10-09 00:00:00 2024-09-30 00:00:00\n"
     ]
    },
    {
     "name": "stderr",
     "output_type": "stream",
     "text": [
      " 10%|█         | 4/40 [00:41<06:29, 10.83s/it]"
     ]
    },
    {
     "name": "stdout",
     "output_type": "stream",
     "text": [
      "리뷰 수: 20\n"
     ]
    },
    {
     "name": "stderr",
     "output_type": "stream",
     "text": [
      " 12%|█▎        | 5/40 [00:51<06:08, 10.51s/it]"
     ]
    },
    {
     "name": "stdout",
     "output_type": "stream",
     "text": [
      "리뷰 수: 2\n",
      "리뷰 수: 20\n",
      "2025-01-02 00:00:00 2024-09-30 00:00:00\n",
      "리뷰 수: 20\n",
      "2025-01-02 00:00:00 2024-09-30 00:00:00\n",
      "리뷰 수: 40\n",
      "2024-12-28 00:00:00 2024-09-30 00:00:00\n"
     ]
    },
    {
     "name": "stderr",
     "output_type": "stream",
     "text": [
      " 15%|█▌        | 6/40 [01:05<06:35, 11.63s/it]"
     ]
    },
    {
     "name": "stdout",
     "output_type": "stream",
     "text": [
      "리뷰 수: 60\n",
      "2024-10-23 00:00:00 2024-09-30 00:00:00\n",
      "리뷰 페이지 마지막\n"
     ]
    },
    {
     "name": "stderr",
     "output_type": "stream",
     "text": [
      " 18%|█▊        | 7/40 [01:15<06:04, 11.04s/it]"
     ]
    },
    {
     "name": "stdout",
     "output_type": "stream",
     "text": [
      "리뷰 수: 0\n",
      "리뷰 수: 20\n",
      "2024-12-04 00:00:00 2024-09-30 00:00:00\n",
      "리뷰 수: 20\n",
      "2024-12-04 00:00:00 2024-09-30 00:00:00\n",
      "리뷰 수: 40\n",
      "2024-11-06 00:00:00 2024-09-30 00:00:00\n",
      "리뷰 수: 60\n",
      "2024-10-15 00:00:00 2024-09-30 00:00:00\n"
     ]
    },
    {
     "name": "stderr",
     "output_type": "stream",
     "text": [
      " 20%|██        | 8/40 [01:30<06:35, 12.35s/it]"
     ]
    },
    {
     "name": "stdout",
     "output_type": "stream",
     "text": [
      "리뷰 수: 71\n"
     ]
    },
    {
     "name": "stderr",
     "output_type": "stream",
     "text": [
      " 22%|██▎       | 9/40 [01:40<05:58, 11.56s/it]"
     ]
    },
    {
     "name": "stdout",
     "output_type": "stream",
     "text": [
      "리뷰 수: 12\n",
      "2024-11-22 00:00:00 2024-09-30 00:00:00\n",
      "리뷰 페이지 마지막\n",
      "리뷰 수: 20\n",
      "2025-01-14 00:00:00 2024-09-30 00:00:00\n",
      "리뷰 수: 20\n",
      "2025-01-14 00:00:00 2024-09-30 00:00:00\n",
      "리뷰 수: 40\n",
      "2025-01-10 00:00:00 2024-09-30 00:00:00\n",
      "리뷰 수: 60\n",
      "2025-01-03 00:00:00 2024-09-30 00:00:00\n",
      "리뷰 수: 80\n",
      "2024-12-31 00:00:00 2024-09-30 00:00:00\n",
      "리뷰 수: 100\n",
      "2024-12-25 00:00:00 2024-09-30 00:00:00\n",
      "리뷰 수: 120\n",
      "2024-12-19 00:00:00 2024-09-30 00:00:00\n",
      "리뷰 수: 140\n",
      "2024-12-16 00:00:00 2024-09-30 00:00:00\n",
      "리뷰 수: 160\n",
      "2024-12-11 00:00:00 2024-09-30 00:00:00\n",
      "리뷰 수: 180\n",
      "2024-12-07 00:00:00 2024-09-30 00:00:00\n",
      "리뷰 수: 200\n",
      "2024-12-04 00:00:00 2024-09-30 00:00:00\n"
     ]
    },
    {
     "name": "stderr",
     "output_type": "stream",
     "text": [
      " 25%|██▌       | 10/40 [02:07<08:14, 16.48s/it]"
     ]
    },
    {
     "name": "stdout",
     "output_type": "stream",
     "text": [
      "리뷰 수: 220\n",
      "2024-11-26 00:00:00 2024-09-30 00:00:00\n",
      "리뷰 페이지 마지막\n",
      "리뷰 수: 20\n",
      "2025-01-17 00:00:00 2024-09-30 00:00:00\n",
      "리뷰 수: 20\n",
      "2025-01-17 00:00:00 2024-09-30 00:00:00\n",
      "리뷰 수: 40\n",
      "2025-01-14 00:00:00 2024-09-30 00:00:00\n",
      "리뷰 수: 60\n",
      "2025-01-11 00:00:00 2024-09-30 00:00:00\n"
     ]
    },
    {
     "name": "stderr",
     "output_type": "stream",
     "text": [
      " 28%|██▊       | 11/40 [02:23<07:47, 16.13s/it]"
     ]
    },
    {
     "name": "stdout",
     "output_type": "stream",
     "text": [
      "리뷰 수: 80\n",
      "2025-01-07 00:00:00 2024-09-30 00:00:00\n",
      "리뷰 페이지 마지막\n",
      "리뷰 수: 20\n",
      "2024-11-29 00:00:00 2024-09-30 00:00:00\n"
     ]
    },
    {
     "name": "stderr",
     "output_type": "stream",
     "text": [
      " 30%|███       | 12/40 [02:34<06:48, 14.60s/it]"
     ]
    },
    {
     "name": "stdout",
     "output_type": "stream",
     "text": [
      "리뷰 수: 20\n",
      "2024-11-29 00:00:00 2024-09-30 00:00:00\n",
      "리뷰 페이지 마지막\n"
     ]
    },
    {
     "name": "stderr",
     "output_type": "stream",
     "text": [
      " 32%|███▎      | 13/40 [02:44<05:55, 13.18s/it]"
     ]
    },
    {
     "name": "stdout",
     "output_type": "stream",
     "text": [
      "리뷰 수: 2\n",
      "리뷰 수: 20\n",
      "2024-11-09 00:00:00 2024-09-30 00:00:00\n",
      "리뷰 수: 20\n",
      "2024-11-09 00:00:00 2024-09-30 00:00:00\n",
      "리뷰 수: 40\n",
      "2024-10-14 00:00:00 2024-09-30 00:00:00\n"
     ]
    },
    {
     "name": "stderr",
     "output_type": "stream",
     "text": [
      " 35%|███▌      | 14/40 [02:58<05:48, 13.40s/it]"
     ]
    },
    {
     "name": "stdout",
     "output_type": "stream",
     "text": [
      "리뷰 수: 50\n"
     ]
    },
    {
     "name": "stderr",
     "output_type": "stream",
     "text": [
      " 38%|███▊      | 15/40 [03:08<05:07, 12.31s/it]"
     ]
    },
    {
     "name": "stdout",
     "output_type": "stream",
     "text": [
      "리뷰 수: 0\n",
      "리뷰 수: 20\n",
      "2024-12-31 00:00:00 2024-09-30 00:00:00\n",
      "리뷰 수: 20\n",
      "2024-12-31 00:00:00 2024-09-30 00:00:00\n",
      "리뷰 수: 40\n",
      "2024-12-13 00:00:00 2024-09-30 00:00:00\n",
      "리뷰 수: 60\n",
      "2024-12-09 00:00:00 2024-09-30 00:00:00\n",
      "리뷰 수: 80\n",
      "2024-12-06 00:00:00 2024-09-30 00:00:00\n",
      "리뷰 수: 100\n",
      "2024-12-05 00:00:00 2024-09-30 00:00:00\n",
      "리뷰 수: 120\n",
      "2024-12-03 00:00:00 2024-09-30 00:00:00\n",
      "리뷰 수: 140\n",
      "2024-12-03 00:00:00 2024-09-30 00:00:00\n",
      "리뷰 수: 160\n",
      "2024-11-29 00:00:00 2024-09-30 00:00:00\n",
      "리뷰 수: 180\n",
      "2024-11-14 00:00:00 2024-09-30 00:00:00\n"
     ]
    },
    {
     "name": "stderr",
     "output_type": "stream",
     "text": [
      " 40%|████      | 16/40 [03:33<06:31, 16.31s/it]"
     ]
    },
    {
     "name": "stdout",
     "output_type": "stream",
     "text": [
      "리뷰 수: 192\n"
     ]
    },
    {
     "name": "stderr",
     "output_type": "stream",
     "text": [
      " 42%|████▎     | 17/40 [03:43<05:31, 14.40s/it]"
     ]
    },
    {
     "name": "stdout",
     "output_type": "stream",
     "text": [
      "리뷰 수: 9\n"
     ]
    },
    {
     "name": "stderr",
     "output_type": "stream",
     "text": [
      " 45%|████▌     | 18/40 [03:53<04:47, 13.05s/it]"
     ]
    },
    {
     "name": "stdout",
     "output_type": "stream",
     "text": [
      "리뷰 수: 5\n",
      "리뷰 수: 20\n",
      "2024-10-26 00:00:00 2024-09-30 00:00:00\n",
      "리뷰 수: 20\n",
      "2024-10-26 00:00:00 2024-09-30 00:00:00\n"
     ]
    },
    {
     "name": "stderr",
     "output_type": "stream",
     "text": [
      " 48%|████▊     | 19/40 [04:05<04:30, 12.87s/it]"
     ]
    },
    {
     "name": "stdout",
     "output_type": "stream",
     "text": [
      "리뷰 수: 27\n"
     ]
    },
    {
     "name": "stderr",
     "output_type": "stream",
     "text": [
      " 50%|█████     | 20/40 [04:15<03:58, 11.93s/it]"
     ]
    },
    {
     "name": "stdout",
     "output_type": "stream",
     "text": [
      "리뷰 수: 1\n",
      "리뷰 수: 20\n",
      "2024-12-07 00:00:00 2024-09-30 00:00:00\n",
      "리뷰 수: 20\n",
      "2024-12-07 00:00:00 2024-09-30 00:00:00\n",
      "리뷰 수: 40\n",
      "2024-10-23 00:00:00 2024-09-30 00:00:00\n"
     ]
    },
    {
     "name": "stderr",
     "output_type": "stream",
     "text": [
      " 52%|█████▎    | 21/40 [04:29<03:57, 12.49s/it]"
     ]
    },
    {
     "name": "stdout",
     "output_type": "stream",
     "text": [
      "리뷰 수: 55\n"
     ]
    },
    {
     "name": "stderr",
     "output_type": "stream",
     "text": [
      " 55%|█████▌    | 22/40 [04:39<03:30, 11.69s/it]"
     ]
    },
    {
     "name": "stdout",
     "output_type": "stream",
     "text": [
      "리뷰 수: 1\n"
     ]
    },
    {
     "name": "stderr",
     "output_type": "stream",
     "text": [
      " 57%|█████▊    | 23/40 [04:49<03:09, 11.15s/it]"
     ]
    },
    {
     "name": "stdout",
     "output_type": "stream",
     "text": [
      "리뷰 수: 10\n"
     ]
    },
    {
     "name": "stderr",
     "output_type": "stream",
     "text": [
      " 60%|██████    | 24/40 [04:59<02:52, 10.79s/it]"
     ]
    },
    {
     "name": "stdout",
     "output_type": "stream",
     "text": [
      "리뷰 수: 3\n"
     ]
    },
    {
     "name": "stderr",
     "output_type": "stream",
     "text": [
      " 62%|██████▎   | 25/40 [05:09<02:38, 10.59s/it]"
     ]
    },
    {
     "name": "stdout",
     "output_type": "stream",
     "text": [
      "리뷰 수: 17\n"
     ]
    },
    {
     "name": "stderr",
     "output_type": "stream",
     "text": [
      " 65%|██████▌   | 26/40 [05:19<02:25, 10.40s/it]"
     ]
    },
    {
     "name": "stdout",
     "output_type": "stream",
     "text": [
      "리뷰 수: 10\n",
      "리뷰 수: 20\n",
      "2024-12-28 00:00:00 2024-09-30 00:00:00\n",
      "리뷰 수: 20\n",
      "2024-12-28 00:00:00 2024-09-30 00:00:00\n",
      "리뷰 수: 40\n",
      "2024-11-26 00:00:00 2024-09-30 00:00:00\n"
     ]
    },
    {
     "name": "stderr",
     "output_type": "stream",
     "text": [
      " 68%|██████▊   | 27/40 [05:32<02:28, 11.39s/it]"
     ]
    },
    {
     "name": "stdout",
     "output_type": "stream",
     "text": [
      "리뷰 수: 53\n"
     ]
    },
    {
     "name": "stderr",
     "output_type": "stream",
     "text": [
      " 70%|███████   | 28/40 [05:42<02:10, 10.92s/it]"
     ]
    },
    {
     "name": "stdout",
     "output_type": "stream",
     "text": [
      "리뷰 수: 10\n",
      "리뷰 수: 20\n",
      "2025-01-04 00:00:00 2024-09-30 00:00:00\n",
      "리뷰 수: 20\n",
      "2025-01-04 00:00:00 2024-09-30 00:00:00\n",
      "리뷰 수: 40\n",
      "2024-12-13 00:00:00 2024-09-30 00:00:00\n",
      "리뷰 수: 60\n",
      "2024-11-27 00:00:00 2024-09-30 00:00:00\n",
      "리뷰 수: 80\n",
      "2024-10-26 00:00:00 2024-09-30 00:00:00\n",
      "리뷰 수: 100\n",
      "2024-10-02 00:00:00 2024-09-30 00:00:00\n"
     ]
    },
    {
     "name": "stderr",
     "output_type": "stream",
     "text": [
      " 72%|███████▎  | 29/40 [06:01<02:24, 13.17s/it]"
     ]
    },
    {
     "name": "stdout",
     "output_type": "stream",
     "text": [
      "리뷰 수: 101\n",
      "리뷰 수: 20\n",
      "2024-11-13 00:00:00 2024-09-30 00:00:00\n",
      "리뷰 수: 20\n",
      "2024-11-13 00:00:00 2024-09-30 00:00:00\n"
     ]
    },
    {
     "name": "stderr",
     "output_type": "stream",
     "text": [
      " 75%|███████▌  | 30/40 [06:13<02:08, 12.89s/it]"
     ]
    },
    {
     "name": "stdout",
     "output_type": "stream",
     "text": [
      "리뷰 수: 27\n"
     ]
    },
    {
     "name": "stderr",
     "output_type": "stream",
     "text": [
      " 78%|███████▊  | 31/40 [06:23<01:47, 11.98s/it]"
     ]
    },
    {
     "name": "stdout",
     "output_type": "stream",
     "text": [
      "리뷰 수: 8\n",
      "리뷰 수: 20\n",
      "2024-12-14 00:00:00 2024-09-30 00:00:00\n",
      "리뷰 수: 20\n",
      "2024-12-14 00:00:00 2024-09-30 00:00:00\n",
      "리뷰 수: 40\n",
      "2024-11-15 00:00:00 2024-09-30 00:00:00\n",
      "리뷰 수: 60\n",
      "2024-10-22 00:00:00 2024-09-30 00:00:00\n"
     ]
    },
    {
     "name": "stderr",
     "output_type": "stream",
     "text": [
      " 80%|████████  | 32/40 [06:38<01:43, 12.96s/it]"
     ]
    },
    {
     "name": "stdout",
     "output_type": "stream",
     "text": [
      "리뷰 수: 73\n"
     ]
    },
    {
     "name": "stderr",
     "output_type": "stream",
     "text": [
      " 82%|████████▎ | 33/40 [06:48<01:23, 11.98s/it]"
     ]
    },
    {
     "name": "stdout",
     "output_type": "stream",
     "text": [
      "리뷰 수: 0\n"
     ]
    },
    {
     "name": "stderr",
     "output_type": "stream",
     "text": [
      " 85%|████████▌ | 34/40 [06:58<01:08, 11.34s/it]"
     ]
    },
    {
     "name": "stdout",
     "output_type": "stream",
     "text": [
      "리뷰 수: 5\n",
      "리뷰 수: 20\n",
      "2024-12-19 00:00:00 2024-09-30 00:00:00\n",
      "리뷰 수: 20\n",
      "2024-12-19 00:00:00 2024-09-30 00:00:00\n",
      "리뷰 수: 40\n",
      "2024-11-08 00:00:00 2024-09-30 00:00:00\n"
     ]
    },
    {
     "name": "stderr",
     "output_type": "stream",
     "text": [
      " 88%|████████▊ | 35/40 [07:11<01:00, 12.05s/it]"
     ]
    },
    {
     "name": "stdout",
     "output_type": "stream",
     "text": [
      "리뷰 수: 57\n"
     ]
    },
    {
     "name": "stderr",
     "output_type": "stream",
     "text": [
      " 90%|█████████ | 36/40 [07:21<00:45, 11.44s/it]"
     ]
    },
    {
     "name": "stdout",
     "output_type": "stream",
     "text": [
      "리뷰 수: 8\n",
      "리뷰 수: 20\n",
      "2024-11-16 00:00:00 2024-09-30 00:00:00\n",
      "리뷰 수: 20\n",
      "2024-11-16 00:00:00 2024-09-30 00:00:00\n"
     ]
    },
    {
     "name": "stderr",
     "output_type": "stream",
     "text": [
      " 92%|█████████▎| 37/40 [07:34<00:35, 11.74s/it]"
     ]
    },
    {
     "name": "stdout",
     "output_type": "stream",
     "text": [
      "리뷰 수: 38\n",
      "리뷰 수: 20\n",
      "2024-10-14 00:00:00 2024-09-30 00:00:00\n",
      "리뷰 수: 20\n",
      "2024-10-14 00:00:00 2024-09-30 00:00:00\n"
     ]
    },
    {
     "name": "stderr",
     "output_type": "stream",
     "text": [
      " 95%|█████████▌| 38/40 [07:46<00:23, 11.97s/it]"
     ]
    },
    {
     "name": "stdout",
     "output_type": "stream",
     "text": [
      "리뷰 수: 22\n"
     ]
    },
    {
     "name": "stderr",
     "output_type": "stream",
     "text": [
      " 98%|█████████▊| 39/40 [07:56<00:11, 11.32s/it]"
     ]
    },
    {
     "name": "stdout",
     "output_type": "stream",
     "text": [
      "리뷰 수: 1\n",
      "리뷰 수: 20\n",
      "2024-10-18 00:00:00 2024-09-30 00:00:00\n",
      "리뷰 수: 20\n",
      "2024-10-18 00:00:00 2024-09-30 00:00:00\n"
     ]
    },
    {
     "name": "stderr",
     "output_type": "stream",
     "text": [
      " 98%|█████████▊| 39/40 [08:08<00:12, 12.54s/it]"
     ]
    },
    {
     "name": "stdout",
     "output_type": "stream",
     "text": [
      "리뷰 수: 21\n"
     ]
    },
    {
     "name": "stderr",
     "output_type": "stream",
     "text": [
      "\n"
     ]
    }
   ],
   "source": [
    "# 링크 수집\n",
    "# 무한 스크롤을 통한 데이터 로드\n",
    "target_count = 30 # 크롤링하려는 상품 수\n",
    "scroll_pause_time = 0.5\n",
    "\n",
    "# 크롤링된 상품 링크를 저장할 리스트\n",
    "product_links = set()\n",
    "\n",
    "while len(product_links) < target_count:\n",
    "    # 현재 페이지 HTML 파싱\n",
    "    html = driver.page_source\n",
    "    soup = BeautifulSoup(html, \"html.parser\")\n",
    "\n",
    "    # id가 \"promotion_prdList_5\"로 시작하는 섹션 탐색\n",
    "    sections = soup.find_all(\"div\", id=re.compile(\"^promotion_prdList_210\"))\n",
    "    for section in sections:\n",
    "        items = section.find_all(\"a\", class_=\"link_thumb\")\n",
    "        for item in items:\n",
    "            link = item.get(\"href\")\n",
    "            if link not in product_links:\n",
    "                product_links.add('https://gift.kakao.com'+link)\n",
    "\n",
    "    # 목표 수량 도달 시 루프 종료\n",
    "    if len(product_links) >= target_count:\n",
    "        break\n",
    "\n",
    "    # 스크롤 다운\n",
    "    body = driver.find_element(By.TAG_NAME, 'body')\n",
    "    body.send_keys(Keys.PAGE_DOWN)\n",
    "    time.sleep(scroll_pause_time)\n",
    "\n",
    "    # 상품 수 출력 (디버깅용)\n",
    "    print(f\"중복 없는 상품 수: {len(product_links)}\")\n",
    "\n",
    "# 결과 출력\n",
    "print(\"수집된 상품 링크:\")\n",
    "for link in product_links:\n",
    "    print(link)\n",
    "print(f\"총 {len(product_links)}개의 상품 링크 수집 완료\")\n",
    "\n",
    "# 저장할 폴더\n",
    "os.makedirs(f\"./연인/기념일\", exist_ok=True)\n",
    "\n",
    "info_dic = {}\n",
    "i = 0\n",
    "\n",
    "for link in tqdm(product_links):\n",
    "    time.sleep(2)\n",
    "        # info \n",
    "    try:\n",
    "        info = crawl_info(link) \n",
    "    except Exception as e:\n",
    "        print(e)\n",
    "        # i += 1\n",
    "        continue\n",
    "    time.sleep(1)\n",
    "    # review\n",
    "    satisfaction, review = crawl_review(link)\n",
    "\n",
    "    # 데이터 저장\n",
    "    info['satisfaction'] = satisfaction\n",
    "    info['link'] = link\n",
    "\n",
    "\n",
    "    # 리뷰가 없는 상품은 건너뜁니다.\n",
    "    if info['num_review'] == '0' or info['num_review'] == 0:\n",
    "        # i += 1\n",
    "        continue\n",
    "\n",
    "\n",
    "    # info_dic에 상품 정보 저장\n",
    "    info_dic[info['name']] = info\n",
    "\n",
    "    # 각 상품별로 리뷰 모음 딕셔너리가 생성됩니다.\n",
    "    # 저장 -> csv\n",
    "    review_df = pd.DataFrame(review)\n",
    "    review_df['product'] = info['name']\n",
    "    review_df['link'] = info['link']\n",
    "\n",
    "    review_df.to_csv(f\"연인/기념일/{i}.csv\", index=False)\n",
    "    i += 1\n",
    "\n",
    "    # 100개 크롤링 후 종료\n",
    "    if len(info_dic) >= 40:\n",
    "        break\n",
    "\n",
    "info_df = pd.DataFrame(info_dic).T\n",
    "info_df.to_csv(f\"연인/기념일/metadata.csv\", index=False)"
   ]
  },
  {
   "cell_type": "code",
   "execution_count": null,
   "metadata": {},
   "outputs": [],
   "source": []
  }
 ],
 "metadata": {
  "kernelspec": {
   "display_name": "Python 3",
   "language": "python",
   "name": "python3"
  },
  "language_info": {
   "codemirror_mode": {
    "name": "ipython",
    "version": 3
   },
   "file_extension": ".py",
   "mimetype": "text/x-python",
   "name": "python",
   "nbconvert_exporter": "python",
   "pygments_lexer": "ipython3",
   "version": "3.9.6"
  }
 },
 "nbformat": 4,
 "nbformat_minor": 2
}
